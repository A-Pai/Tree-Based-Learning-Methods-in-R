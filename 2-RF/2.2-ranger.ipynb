{
 "cells": [
  {
   "cell_type": "markdown",
   "id": "b75ebae9-a8e9-4e2f-a5f7-e66cfc4a97af",
   "metadata": {},
   "source": [
    "# ranger包\n",
    "\n",
    "ranger is a fast implementation of **random forests (Breiman 2001) or recursive partitioning**, particularly suited for **high dimensional data**. Classification, regression, and survival forests are supported. **Classification and regression forests are implemented as in the original Random Forest (Breiman 2001)**, survival forests as in Random Survival Forests (Ishwaran et al. 2008). Includes implementations of extremely randomized trees (Geurts et al. 2006) and quantile regression forests (Meinshausen 2006).\n",
    "\n",
    "ranger is written in C++, but a version for R is available, too. We recommend to use the R version. It is easy to install and use and the results are readily available for further analysis. The R version is as fast as the standalone C++ version.\n",
    "\n",
    "https://github.com/imbs-hl/ranger\n",
    "\n",
    "优点：\n",
    "1. 变量无序类别数超过randomForest包允许的53个\n",
    "2. 运行大大快于randomForest\n",
    "3. 可以代价敏感--不知道怎么做\n",
    "1. 可以提供类别判定概率\n",
    "1. 有csrf，但很耗时\n",
    "1. 可做extraTrees\n",
    "1. 提供了“impurity_corrected”变量重要性评价\n",
    "\n",
    "缺点：\n",
    "1. 没有缺失值填补功能\n",
    "1. 不提供proximity "
   ]
  },
  {
   "cell_type": "markdown",
   "id": "570c8d1f-1510-4f72-b727-c0b7c0f17fd1",
   "metadata": {},
   "source": [
    "## 速度比测"
   ]
  },
  {
   "cell_type": "code",
   "execution_count": 1,
   "id": "ffdd1f46-512c-4864-85c6-dac96719befd",
   "metadata": {
    "scrolled": true,
    "vscode": {
     "languageId": "r"
    }
   },
   "outputs": [
    {
     "name": "stdout",
     "output_type": "stream",
     "text": [
      "── Data Summary ────────────────────────\n",
      "                           Values\n",
      "Name                       data  \n",
      "Number of rows             2930  \n",
      "Number of columns          81    \n",
      "_______________________          \n",
      "Column type frequency:           \n",
      "  factor                   47    \n",
      "  numeric                  34    \n",
      "________________________         \n",
      "Group variables            None  \n",
      "\n",
      "── Variable type: factor ───────────────────────────────────────────────────────────────────────────────────────────────────────────────────\n",
      "   skim_variable  n_missing complete_rate ordered n_unique top_counts                             \n",
      "\u001b[90m 1\u001b[39m MS_SubClass            0             1 FALSE         16 One: 1079, Two: 575, One: 287, One: 192\n",
      "\u001b[90m 2\u001b[39m MS_Zoning              0             1 FALSE          7 Res: 2273, Res: 462, Flo: 139, Res: 27 \n",
      "\u001b[90m 3\u001b[39m Street                 0             1 FALSE          2 Pav: 2918, Grv: 12                     \n",
      "\u001b[90m 4\u001b[39m Alley                  0             1 FALSE          3 No_: 2732, Gra: 120, Pav: 78           \n",
      "\u001b[90m 5\u001b[39m Lot_Shape              0             1 FALSE          4 Reg: 1859, Sli: 979, Mod: 76, Irr: 16  \n",
      "\u001b[90m 6\u001b[39m Land_Contour           0             1 FALSE          4 Lvl: 2633, HLS: 120, Bnk: 117, Low: 60 \n",
      "\u001b[90m 7\u001b[39m Utilities              0             1 FALSE          3 All: 2927, NoS: 2, NoS: 1              \n",
      "\u001b[90m 8\u001b[39m Lot_Config             0             1 FALSE          5 Ins: 2140, Cor: 511, Cul: 180, FR2: 85 \n",
      "\u001b[90m 9\u001b[39m Land_Slope             0             1 FALSE          3 Gtl: 2789, Mod: 125, Sev: 16           \n",
      "\u001b[90m10\u001b[39m Neighborhood           0             1 FALSE         28 Nor: 443, Col: 267, Old: 239, Edw: 194 \n",
      "\u001b[90m11\u001b[39m Condition_1            0             1 FALSE          9 Nor: 2522, Fee: 164, Art: 92, RRA: 50  \n",
      "\u001b[90m12\u001b[39m Condition_2            0             1 FALSE          8 Nor: 2900, Fee: 13, Art: 5, Pos: 4     \n",
      "\u001b[90m13\u001b[39m Bldg_Type              0             1 FALSE          5 One: 2425, Twn: 233, Dup: 109, Twn: 101\n",
      "\u001b[90m14\u001b[39m House_Style            0             1 FALSE          8 One: 1481, Two: 873, One: 314, SLv: 128\n",
      "\u001b[90m15\u001b[39m Overall_Qual           0             1 FALSE         10 Ave: 825, Abo: 732, Goo: 602, Ver: 350 \n",
      "\u001b[90m16\u001b[39m Overall_Cond           0             1 FALSE          9 Ave: 1654, Abo: 533, Goo: 390, Ver: 144\n",
      "\u001b[90m17\u001b[39m Roof_Style             0             1 FALSE          6 Gab: 2321, Hip: 551, Gam: 22, Fla: 20  \n",
      "\u001b[90m18\u001b[39m Roof_Matl              0             1 FALSE          8 Com: 2887, Tar: 23, WdS: 9, WdS: 7     \n",
      "\u001b[90m19\u001b[39m Exterior_1st           0             1 FALSE         16 Vin: 1026, Met: 450, HdB: 442, Wd : 420\n",
      "\u001b[90m20\u001b[39m Exterior_2nd           0             1 FALSE         17 Vin: 1015, Met: 447, HdB: 406, Wd : 397\n",
      "\u001b[90m21\u001b[39m Mas_Vnr_Type           0             1 FALSE          5 Non: 1775, Brk: 880, Sto: 249, Brk: 25 \n",
      "\u001b[90m22\u001b[39m Exter_Qual             0             1 FALSE          4 Typ: 1799, Goo: 989, Exc: 107, Fai: 35 \n",
      "\u001b[90m23\u001b[39m Exter_Cond             0             1 FALSE          5 Typ: 2549, Goo: 299, Fai: 67, Exc: 12  \n",
      "\u001b[90m24\u001b[39m Foundation             0             1 FALSE          6 PCo: 1310, CBl: 1244, Brk: 311, Sla: 49\n",
      "\u001b[90m25\u001b[39m Bsmt_Qual              0             1 FALSE          6 Typ: 1283, Goo: 1219, Exc: 258, Fai: 88\n",
      "\u001b[90m26\u001b[39m Bsmt_Cond              0             1 FALSE          6 Typ: 2616, Goo: 122, Fai: 104, No_: 80 \n",
      "\u001b[90m27\u001b[39m Bsmt_Exposure          0             1 FALSE          5 No: 1906, Av: 418, Gd: 284, Mn: 239    \n",
      "\u001b[90m28\u001b[39m BsmtFin_Type_1         0             1 FALSE          7 GLQ: 859, Unf: 851, ALQ: 429, Rec: 288 \n",
      "\u001b[90m29\u001b[39m BsmtFin_Type_2         0             1 FALSE          7 Unf: 2499, Rec: 106, LwQ: 89, No_: 81  \n",
      "\u001b[90m30\u001b[39m Heating                0             1 FALSE          6 Gas: 2885, Gas: 27, Gra: 9, Wal: 6     \n",
      "\u001b[90m31\u001b[39m Heating_QC             0             1 FALSE          5 Exc: 1495, Typ: 864, Goo: 476, Fai: 92 \n",
      "\u001b[90m32\u001b[39m Central_Air            0             1 FALSE          2 Y: 2734, N: 196                        \n",
      "\u001b[90m33\u001b[39m Electrical             0             1 FALSE          6 SBr: 2682, Fus: 188, Fus: 50, Fus: 8   \n",
      "\u001b[90m34\u001b[39m Kitchen_Qual           0             1 FALSE          5 Typ: 1494, Goo: 1160, Exc: 205, Fai: 70\n",
      "\u001b[90m35\u001b[39m Functional             0             1 FALSE          8 Typ: 2728, Min: 70, Min: 65, Mod: 35   \n",
      "\u001b[90m36\u001b[39m Fireplace_Qu           0             1 FALSE          6 No_: 1422, Goo: 744, Typ: 600, Fai: 75 \n",
      "\u001b[90m37\u001b[39m Garage_Type            0             1 FALSE          7 Att: 1731, Det: 782, Bui: 186, No_: 157\n",
      "\u001b[90m38\u001b[39m Garage_Finish          0             1 FALSE          4 Unf: 1231, RFn: 812, Fin: 728, No_: 159\n",
      "\u001b[90m39\u001b[39m Garage_Qual            0             1 FALSE          6 Typ: 2615, No_: 159, Fai: 124, Goo: 24 \n",
      "\u001b[90m40\u001b[39m Garage_Cond            0             1 FALSE          6 Typ: 2665, No_: 159, Fai: 74, Goo: 15  \n",
      "\u001b[90m41\u001b[39m Paved_Drive            0             1 FALSE          3 Pav: 2652, Dir: 216, Par: 62           \n",
      "\u001b[90m42\u001b[39m Pool_QC                0             1 FALSE          5 No_: 2917, Exc: 4, Goo: 4, Typ: 3      \n",
      "\u001b[90m43\u001b[39m Fence                  0             1 FALSE          5 No_: 2358, Min: 330, Goo: 118, Goo: 112\n",
      "\u001b[90m44\u001b[39m Misc_Feature           0             1 FALSE          6 Non: 2824, She: 95, Gar: 5, Oth: 4     \n",
      "\u001b[90m45\u001b[39m Sale_Type              0             1 FALSE         10 WD : 2536, New: 239, COD: 87, Con: 26  \n",
      "\u001b[90m46\u001b[39m Sale_Condition         0             1 FALSE          6 Nor: 2413, Par: 245, Abn: 190, Fam: 46 \n",
      "\u001b[90m47\u001b[39m Sale_Price             0             1 FALSE          2 FAL: 1467, TRU: 1463                   \n",
      "\n",
      "── Variable type: numeric ──────────────────────────────────────────────────────────────────────────────────────────────────────────────────\n",
      "   skim_variable      n_missing complete_rate       mean        sd     p0    p25    p50     p75     p100 hist \n",
      "\u001b[90m 1\u001b[39m Lot_Frontage               0             1    57.6      33.5       0     43     63      78      313   ▇▇▁▁▁\n",
      "\u001b[90m 2\u001b[39m Lot_Area                   0             1 \u001b[4m1\u001b[24m\u001b[4m0\u001b[24m148.     \u001b[4m7\u001b[24m880.     \u001b[4m1\u001b[24m300   \u001b[4m7\u001b[24m440.  \u001b[4m9\u001b[24m436.  \u001b[4m1\u001b[24m\u001b[4m1\u001b[24m555.  \u001b[4m2\u001b[24m\u001b[4m1\u001b[24m\u001b[4m5\u001b[24m245   ▇▁▁▁▁\n",
      "\u001b[90m 3\u001b[39m Year_Built                 0             1  \u001b[4m1\u001b[24m971.       30.2    \u001b[4m1\u001b[24m872   \u001b[4m1\u001b[24m954   \u001b[4m1\u001b[24m973    \u001b[4m2\u001b[24m001     \u001b[4m2\u001b[24m010   ▁▂▃▆▇\n",
      "\u001b[90m 4\u001b[39m Year_Remod_Add             0             1  \u001b[4m1\u001b[24m984.       20.9    \u001b[4m1\u001b[24m950   \u001b[4m1\u001b[24m965   \u001b[4m1\u001b[24m993    \u001b[4m2\u001b[24m004     \u001b[4m2\u001b[24m010   ▅▂▂▃▇\n",
      "\u001b[90m 5\u001b[39m Mas_Vnr_Area               0             1   101.      179.        0      0      0     163.    \u001b[4m1\u001b[24m600   ▇▁▁▁▁\n",
      "\u001b[90m 6\u001b[39m BsmtFin_SF_1               0             1     4.18      2.23      0      3      3       7        7   ▃▂▇▁▇\n",
      "\u001b[90m 7\u001b[39m BsmtFin_SF_2               0             1    49.7     169.        0      0      0       0     \u001b[4m1\u001b[24m526   ▇▁▁▁▁\n",
      "\u001b[90m 8\u001b[39m Bsmt_Unf_SF                0             1   559.      440.        0    219    466.    802.    \u001b[4m2\u001b[24m336   ▇▅▂▁▁\n",
      "\u001b[90m 9\u001b[39m Total_Bsmt_SF              0             1  \u001b[4m1\u001b[24m051.      441.        0    793    990    \u001b[4m1\u001b[24m302.    \u001b[4m6\u001b[24m110   ▇▃▁▁▁\n",
      "\u001b[90m10\u001b[39m First_Flr_SF               0             1  \u001b[4m1\u001b[24m160.      392.      334    876.  \u001b[4m1\u001b[24m084    \u001b[4m1\u001b[24m384     \u001b[4m5\u001b[24m095   ▇▃▁▁▁\n",
      "\u001b[90m11\u001b[39m Second_Flr_SF              0             1   335.      428.        0      0      0     704.    \u001b[4m2\u001b[24m065   ▇▃▂▁▁\n",
      "\u001b[90m12\u001b[39m Low_Qual_Fin_SF            0             1     4.68     46.3       0      0      0       0     \u001b[4m1\u001b[24m064   ▇▁▁▁▁\n",
      "\u001b[90m13\u001b[39m Gr_Liv_Area                0             1  \u001b[4m1\u001b[24m500.      506.      334   \u001b[4m1\u001b[24m126   \u001b[4m1\u001b[24m442    \u001b[4m1\u001b[24m743.    \u001b[4m5\u001b[24m642   ▇▇▁▁▁\n",
      "\u001b[90m14\u001b[39m Bsmt_Full_Bath             0             1     0.431     0.525     0      0      0       1        3   ▇▆▁▁▁\n",
      "\u001b[90m15\u001b[39m Bsmt_Half_Bath             0             1     0.061\u001b[4m1\u001b[24m    0.245     0      0      0       0        2   ▇▁▁▁▁\n",
      "\u001b[90m16\u001b[39m Full_Bath                  0             1     1.57      0.553     0      1      2       2        4   ▁▇▇▁▁\n",
      "\u001b[90m17\u001b[39m Half_Bath                  0             1     0.380     0.503     0      0      0       1        2   ▇▁▅▁▁\n",
      "\u001b[90m18\u001b[39m Bedroom_AbvGr              0             1     2.85      0.828     0      2      3       3        8   ▁▇▂▁▁\n",
      "\u001b[90m19\u001b[39m Kitchen_AbvGr              0             1     1.04      0.214     0      1      1       1        3   ▁▇▁▁▁\n",
      "\u001b[90m20\u001b[39m TotRms_AbvGrd              0             1     6.44      1.57      2      5      6       7       15   ▁▇▂▁▁\n",
      "\u001b[90m21\u001b[39m Fireplaces                 0             1     0.599     0.648     0      0      1       1        4   ▇▇▁▁▁\n",
      "\u001b[90m22\u001b[39m Garage_Cars                0             1     1.77      0.761     0      1      2       2        5   ▅▇▂▁▁\n",
      "\u001b[90m23\u001b[39m Garage_Area                0             1   473.      215.        0    320    480     576     \u001b[4m1\u001b[24m488   ▃▇▃▁▁\n",
      "\u001b[90m24\u001b[39m Wood_Deck_SF               0             1    93.8     126.        0      0      0     168     \u001b[4m1\u001b[24m424   ▇▁▁▁▁\n",
      "\u001b[90m25\u001b[39m Open_Porch_SF              0             1    47.5      67.5       0      0     27      70      742   ▇▁▁▁▁\n",
      "\u001b[90m26\u001b[39m Enclosed_Porch             0             1    23.0      64.1       0      0      0       0     \u001b[4m1\u001b[24m012   ▇▁▁▁▁\n",
      "\u001b[90m27\u001b[39m Three_season_porch         0             1     2.59     25.1       0      0      0       0      508   ▇▁▁▁▁\n",
      "\u001b[90m28\u001b[39m Screen_Porch               0             1    16.0      56.1       0      0      0       0      576   ▇▁▁▁▁\n",
      "\u001b[90m29\u001b[39m Pool_Area                  0             1     2.24     35.6       0      0      0       0      800   ▇▁▁▁▁\n",
      "\u001b[90m30\u001b[39m Misc_Val                   0             1    50.6     566.        0      0      0       0    \u001b[4m1\u001b[24m\u001b[4m7\u001b[24m000   ▇▁▁▁▁\n",
      "\u001b[90m31\u001b[39m Mo_Sold                    0             1     6.22      2.71      1      4      6       8       12   ▅▆▇▃▃\n",
      "\u001b[90m32\u001b[39m Year_Sold                  0             1  \u001b[4m2\u001b[24m008.        1.32   \u001b[4m2\u001b[24m006   \u001b[4m2\u001b[24m007   \u001b[4m2\u001b[24m008    \u001b[4m2\u001b[24m009     \u001b[4m2\u001b[24m010   ▇▇▇▇▃\n",
      "\u001b[90m33\u001b[39m Longitude                  0             1   -\u001b[31m93\u001b[39m\u001b[31m.\u001b[39m\u001b[31m6\u001b[39m       0.025\u001b[4m7\u001b[24m  -\u001b[31m93\u001b[39m\u001b[31m.\u001b[39m\u001b[31m7\u001b[39m  -\u001b[31m93\u001b[39m\u001b[31m.\u001b[39m\u001b[31m7\u001b[39m  -\u001b[31m93\u001b[39m\u001b[31m.\u001b[39m\u001b[31m6\u001b[39m   -\u001b[31m93\u001b[39m\u001b[31m.\u001b[39m\u001b[31m6\u001b[39m    -\u001b[31m93\u001b[39m\u001b[31m.\u001b[39m\u001b[31m6\u001b[39m ▅▅▇▆▁\n",
      "\u001b[90m34\u001b[39m Latitude                   0             1    42.0       0.018\u001b[4m4\u001b[24m   42.0   42.0   42.0    42.0     42.1 ▂▂▇▇▇\n"
     ]
    }
   ],
   "source": [
    "options(warn=-1)    #忽略一切警告\n",
    "options('width'=140)  #充分利用打印宽度\n",
    "options(repr.plot.width=22, repr.plot.height=10)  #满幅\n",
    "\n",
    "\n",
    "library(pacman)\n",
    "p_load(randomForest,ranger,skimr,AmesHousing)\n",
    "s <- skim_tee\n",
    "\n",
    "ames <- as.data.frame(make_ames())\n",
    "\n",
    "ames_c <- ames\n",
    "ames_c[, \"Sale_Price\"] <- factor(ames_c[, \"Sale_Price\"] > 160000)\n",
    "s(ames_c)"
   ]
  },
  {
   "cell_type": "code",
   "execution_count": 2,
   "id": "82f24282-96b7-47b9-9107-9fa923236e0d",
   "metadata": {
    "vscode": {
     "languageId": "r"
    }
   },
   "outputs": [
    {
     "data": {
      "text/plain": [
       "   user  system elapsed \n",
       "   1.41    0.03    0.17 "
      ]
     },
     "metadata": {},
     "output_type": "display_data"
    },
    {
     "data": {
      "text/plain": [
       "   user  system elapsed \n",
       "   4.75    0.08    4.83 "
      ]
     },
     "metadata": {},
     "output_type": "display_data"
    }
   ],
   "source": [
    "system.time(rg <- ranger(Sale_Price ~ ., data = ames_c,seed=100)) \n",
    "set.seed(200)\n",
    "system.time(rf <- randomForest(Sale_Price ~ ., data = ames_c)) "
   ]
  },
  {
   "cell_type": "code",
   "execution_count": 3,
   "id": "5374eb6e",
   "metadata": {
    "vscode": {
     "languageId": "r"
    }
   },
   "outputs": [
    {
     "data": {
      "text/plain": [
       "Ranger result\n",
       "\n",
       "Call:\n",
       " ranger(Sale_Price ~ ., data = ames_c, seed = 100) \n",
       "\n",
       "Type:                             Classification \n",
       "Number of trees:                  500 \n",
       "Sample size:                      2930 \n",
       "Number of independent variables:  80 \n",
       "Mtry:                             8 \n",
       "Target node size:                 1 \n",
       "Variable importance mode:         none \n",
       "Splitrule:                        gini \n",
       "OOB prediction error:             7.27 % "
      ]
     },
     "metadata": {},
     "output_type": "display_data"
    }
   ],
   "source": [
    "rg"
   ]
  },
  {
   "cell_type": "code",
   "execution_count": 4,
   "id": "b2869465",
   "metadata": {
    "vscode": {
     "languageId": "r"
    }
   },
   "outputs": [
    {
     "data": {
      "text/plain": [
       "\n",
       "Call:\n",
       " randomForest(formula = Sale_Price ~ ., data = ames_c) \n",
       "               Type of random forest: classification\n",
       "                     Number of trees: 500\n",
       "No. of variables tried at each split: 8\n",
       "\n",
       "        OOB estimate of  error rate: 7.03%\n",
       "Confusion matrix:\n",
       "      FALSE TRUE class.error\n",
       "FALSE  1375   92  0.06271302\n",
       "TRUE    114 1349  0.07792208"
      ]
     },
     "metadata": {},
     "output_type": "display_data"
    }
   ],
   "source": [
    "rf"
   ]
  },
  {
   "cell_type": "markdown",
   "id": "00a68c5f-d1b6-4fb6-b07b-9d9ed563f34e",
   "metadata": {},
   "source": [
    "可见：ranger与randomForest参数相似，性能可比，ranger运行速度优势明显"
   ]
  },
  {
   "cell_type": "markdown",
   "id": "f2bd69d3-2921-49ce-bdf7-73d670d3c129",
   "metadata": {},
   "source": [
    "## 变量重要性评测\n",
    "\n",
    "ranger包提供了“impurity_corrected”变量重要性评价，克服了impurity倾向于类别多变量的问题\n",
    "\n",
    "注：impurity_corrected机理:impurity的降低总量减去该自变量乱序后的impurity的降低量,乱序后的降低量是由于取值碰巧降低的部分"
   ]
  },
  {
   "cell_type": "markdown",
   "id": "8cec6b38",
   "metadata": {},
   "source": [
    "**分类问题**"
   ]
  },
  {
   "cell_type": "code",
   "execution_count": 5,
   "id": "3781d87e",
   "metadata": {
    "vscode": {
     "languageId": "r"
    }
   },
   "outputs": [
    {
     "name": "stdout",
     "output_type": "stream",
     "text": [
      "── Data Summary ────────────────────────\n",
      "                           Values\n",
      "Name                       data  \n",
      "Number of rows             500   \n",
      "Number of columns          7     \n",
      "_______________________          \n",
      "Column type frequency:           \n",
      "  factor                   7     \n",
      "________________________         \n",
      "Group variables            None  \n",
      "\n",
      "── Variable type: factor ───────────────────────────────────────────────────────────────────────────────────────────────────────────────────\n",
      "  skim_variable n_missing complete_rate ordered n_unique top_counts                \n",
      "\u001b[90m1\u001b[39m x1                    0             1 FALSE          2 0: 250, 1: 250            \n",
      "\u001b[90m2\u001b[39m x2                    0             1 FALSE         10 0: 50, 1: 50, 2: 50, 3: 50\n",
      "\u001b[90m3\u001b[39m x3                    0             1 FALSE         20 0: 25, 1: 25, 2: 25, 3: 25\n",
      "\u001b[90m4\u001b[39m x4                    0             1 FALSE         25 0: 20, 1: 20, 2: 20, 3: 20\n",
      "\u001b[90m5\u001b[39m x5                    0             1 FALSE         50 0: 10, 1: 10, 2: 10, 3: 10\n",
      "\u001b[90m6\u001b[39m x6                    0             1 FALSE        100 0: 5, 1: 5, 2: 5, 3: 5    \n",
      "\u001b[90m7\u001b[39m y                     0             1 FALSE          2 0: 250, 1: 250            \n"
     ]
    }
   ],
   "source": [
    "# 生成数据--x1~x6与y独立\n",
    "n <- 500    #数据量\n",
    "set.seed(101)\n",
    "x1 <- factor((sample(n) %% 2)) # 2种取值\n",
    "x2 <- factor((sample(n) %% 10)) # 10种取值\n",
    "x3 <- factor((sample(n) %% 20)) # 20种取值\n",
    "x4 <- factor((sample(n) %% 25)) # 25种取值\n",
    "x5 <- factor((sample(n) %% 50)) # 50种取值\n",
    "x6 <- factor((sample(n) %% 100)) # 100种取值\n",
    "y <- factor((sample(n) %% 2))\n",
    "\n",
    "dt <- data.frame(x1, x2, x3, x4, x5, x6, y)\n",
    "s(dt)"
   ]
  },
  {
   "cell_type": "code",
   "execution_count": 6,
   "id": "2ce1144d",
   "metadata": {
    "vscode": {
     "languageId": "r"
    }
   },
   "outputs": [
    {
     "data": {
      "text/html": [
       "0.130934532733633"
      ],
      "text/latex": [
       "0.130934532733633"
      ],
      "text/markdown": [
       "0.130934532733633"
      ],
      "text/plain": [
       "[1] 0.1309345"
      ]
     },
     "metadata": {},
     "output_type": "display_data"
    },
    {
     "data": {
      "text/html": [
       "0.211894052973513"
      ],
      "text/latex": [
       "0.211894052973513"
      ],
      "text/markdown": [
       "0.211894052973513"
      ],
      "text/plain": [
       "[1] 0.2118941"
      ]
     },
     "metadata": {},
     "output_type": "display_data"
    },
    {
     "data": {
      "text/html": [
       "0.992503748125937"
      ],
      "text/latex": [
       "0.992503748125937"
      ],
      "text/markdown": [
       "0.992503748125937"
      ],
      "text/plain": [
       "[1] 0.9925037"
      ]
     },
     "metadata": {},
     "output_type": "display_data"
    },
    {
     "data": {
      "text/html": [
       "0.158420789605197"
      ],
      "text/latex": [
       "0.158420789605197"
      ],
      "text/markdown": [
       "0.158420789605197"
      ],
      "text/plain": [
       "[1] 0.1584208"
      ]
     },
     "metadata": {},
     "output_type": "display_data"
    },
    {
     "data": {
      "text/html": [
       "0.511244377811094"
      ],
      "text/latex": [
       "0.511244377811094"
      ],
      "text/markdown": [
       "0.511244377811094"
      ],
      "text/plain": [
       "[1] 0.5112444"
      ]
     },
     "metadata": {},
     "output_type": "display_data"
    },
    {
     "data": {
      "text/html": [
       "0.376811594202899"
      ],
      "text/latex": [
       "0.376811594202899"
      ],
      "text/markdown": [
       "0.376811594202899"
      ],
      "text/plain": [
       "[1] 0.3768116"
      ]
     },
     "metadata": {},
     "output_type": "display_data"
    }
   ],
   "source": [
    "# 独立性假设检验\n",
    "(chisq.test(table(x1, y), simulate.p.value = TRUE)$p.value)\n",
    "(chisq.test(table(x2, y), simulate.p.value = TRUE)$p.value)\n",
    "(chisq.test(table(x3, y), simulate.p.value = TRUE)$p.value)\n",
    "(chisq.test(table(x4, y), simulate.p.value = TRUE)$p.value)\n",
    "(chisq.test(table(x5, y), simulate.p.value = TRUE)$p.value)\n",
    "(chisq.test(table(x6, y), simulate.p.value = TRUE)$p.value)"
   ]
  },
  {
   "cell_type": "markdown",
   "id": "298b4d5e",
   "metadata": {},
   "source": [
    "可见 p值均较大，不能拒绝x1~x6与y独立"
   ]
  },
  {
   "cell_type": "code",
   "execution_count": 7,
   "id": "fa14944a",
   "metadata": {
    "vscode": {
     "languageId": "r"
    }
   },
   "outputs": [
    {
     "name": "stdout",
     "output_type": "stream",
     "text": [
      "  |==================================================================================================================================| 100%"
     ]
    },
    {
     "data": {
      "image/png": "[encoded data removed]",
      "text/plain": [
       "Plot with title \"permutation\""
      ]
     },
     "metadata": {
      "image/png": {
       "height": 600,
       "width": 1320
      }
     },
     "output_type": "display_data"
    }
   ],
   "source": [
    "nr <- 100 # number of experiment\n",
    "\n",
    "n <- 6\n",
    "ImpIpt <- matrix(ncol = n, nrow = nr) # 用于存储多次实验得到Permutation Importance的数据\n",
    "colnames(ImpIpt) <- paste(\"x\", (1:n), sep = \"\") # 以变量名命名列\n",
    "ImpIptc <- matrix(ncol = n, nrow = nr) # 用于存储多次实验得到Permutation Importance的数据\n",
    "colnames(ImpIptc) <- paste(\"x\", (1:n), sep = \"\") # 以变量名命名列\n",
    "ImpPerm <- matrix(ncol = n, nrow = nr) # 用于存储多次实验得到Permutation Importance的数据\n",
    "colnames(ImpPerm) <- paste(\"x\", (1:n), sep = \"\") # 以变量名命名列\n",
    "\n",
    "p_load(ranger)\n",
    "pb <- txtProgressBar(style = 3)\n",
    "for (i in 1:nr) {\n",
    "  set.seed(i)\n",
    "  rg1 <- ranger(y ~ ., data = dt, importance = \"impurity\")\n",
    "  rg2 <- ranger(y ~ ., data = dt, importance = \"impurity_corrected\")\n",
    "  rg3 <- ranger(y ~ ., data = dt, importance = \"permutation\")\n",
    "\n",
    "  ImpIpt[i, ] <- rg1$variable.importance\n",
    "  ImpIptc[i, ] <- rg2$variable.importance\n",
    "  ImpPerm[i, ] <- rg3$variable.importance\n",
    "\n",
    "  setTxtProgressBar(pb, i / nr)\n",
    "}\n",
    "\n",
    "par(mfrow = c(1, 3))\n",
    "boxplot(ImpIpt, main = \"impurity\")\n",
    "grid()\n",
    "boxplot(ImpIptc, main = \"impurity_corrected\")\n",
    "grid()\n",
    "boxplot(ImpPerm, main = \"permutation\")\n",
    "grid()"
   ]
  },
  {
   "cell_type": "markdown",
   "id": "953dac2c",
   "metadata": {},
   "source": [
    "可见ranger的分类问题重要性评价：\n",
    "- impurity算法倾向于类别多的变量\n",
    "- impurity_corrected、permutation算法无此倾向"
   ]
  },
  {
   "cell_type": "markdown",
   "id": "ae0806f4",
   "metadata": {},
   "source": [
    "**回归问题**"
   ]
  },
  {
   "cell_type": "code",
   "execution_count": 26,
   "id": "0389f4bd",
   "metadata": {
    "vscode": {
     "languageId": "r"
    }
   },
   "outputs": [
    {
     "name": "stdout",
     "output_type": "stream",
     "text": [
      "── Data Summary ────────────────────────\n",
      "                           Values\n",
      "Name                       data  \n",
      "Number of rows             1000  \n",
      "Number of columns          7     \n",
      "_______________________          \n",
      "Column type frequency:           \n",
      "  factor                   6     \n",
      "  numeric                  1     \n",
      "________________________         \n",
      "Group variables            None  \n",
      "\n",
      "── Variable type: factor ───────────────────────────────────────────────────────────────────────────────────────────────────────────────────\n",
      "  skim_variable n_missing complete_rate ordered n_unique top_counts                    \n",
      "\u001b[90m1\u001b[39m x1                    0             1 FALSE          2 0: 500, 1: 500                \n",
      "\u001b[90m2\u001b[39m x2                    0             1 FALSE         10 0: 100, 1: 100, 2: 100, 3: 100\n",
      "\u001b[90m3\u001b[39m x3                    0             1 FALSE         20 0: 50, 1: 50, 2: 50, 3: 50    \n",
      "\u001b[90m4\u001b[39m x4                    0             1 FALSE         25 0: 40, 1: 40, 2: 40, 3: 40    \n",
      "\u001b[90m5\u001b[39m x5                    0             1 FALSE         50 0: 20, 1: 20, 2: 20, 3: 20    \n",
      "\u001b[90m6\u001b[39m x6                    0             1 FALSE        100 0: 10, 1: 10, 2: 10, 3: 10    \n",
      "\n",
      "── Variable type: numeric ──────────────────────────────────────────────────────────────────────────────────────────────────────────────────\n",
      "  skim_variable n_missing complete_rate  mean    sd       p0   p25   p50   p75 p100 hist \n",
      "\u001b[90m1\u001b[39m y                     0             1 0.499 0.279 0.000\u001b[4m2\u001b[24m\u001b[4m7\u001b[24m\u001b[4m4\u001b[24m 0.276 0.501 0.746 1.00 ▆▇▇▆▇\n"
     ]
    }
   ],
   "source": [
    "# 生成数据--x1~x6与y独立\n",
    "n <- 1000    #数据量\n",
    "set.seed(101)\n",
    "x1 <- factor((sample(n) %% 2)) # 2种取值\n",
    "x2 <- factor((sample(n) %% 10)) # 10种取值\n",
    "x3 <- factor((sample(n) %% 20)) # 20种取值\n",
    "x4 <- factor((sample(n) %% 25)) # 25种取值\n",
    "x5 <- factor((sample(n) %% 50)) # 50种取值\n",
    "x6 <- factor((sample(n) %% 100)) # 100种取值\n",
    "y <- runif(n, min = 0, max = 1)\n",
    "\n",
    "dt <- data.frame(x1, x2, x3, x4, x5, x6, y)\n",
    "s(dt)"
   ]
  },
  {
   "cell_type": "code",
   "execution_count": 27,
   "id": "7d5747d0",
   "metadata": {
    "vscode": {
     "languageId": "r"
    }
   },
   "outputs": [
    {
     "data": {
      "text/html": [
       "0.494049877958527"
      ],
      "text/latex": [
       "0.494049877958527"
      ],
      "text/markdown": [
       "0.494049877958527"
      ],
      "text/plain": [
       "[1] 0.4940499"
      ]
     },
     "metadata": {},
     "output_type": "display_data"
    },
    {
     "data": {
      "text/html": [
       "0.494049877958529"
      ],
      "text/latex": [
       "0.494049877958529"
      ],
      "text/markdown": [
       "0.494049877958529"
      ],
      "text/plain": [
       "[1] 0.4940499"
      ]
     },
     "metadata": {},
     "output_type": "display_data"
    },
    {
     "data": {
      "text/html": [
       "0.494049877958528"
      ],
      "text/latex": [
       "0.494049877958528"
      ],
      "text/markdown": [
       "0.494049877958528"
      ],
      "text/plain": [
       "[1] 0.4940499"
      ]
     },
     "metadata": {},
     "output_type": "display_data"
    },
    {
     "data": {
      "text/html": [
       "0.494049877958526"
      ],
      "text/latex": [
       "0.494049877958526"
      ],
      "text/markdown": [
       "0.494049877958526"
      ],
      "text/plain": [
       "[1] 0.4940499"
      ]
     },
     "metadata": {},
     "output_type": "display_data"
    },
    {
     "data": {
      "text/html": [
       "0.494049877958528"
      ],
      "text/latex": [
       "0.494049877958528"
      ],
      "text/markdown": [
       "0.494049877958528"
      ],
      "text/plain": [
       "[1] 0.4940499"
      ]
     },
     "metadata": {},
     "output_type": "display_data"
    },
    {
     "data": {
      "text/html": [
       "0.494049877958527"
      ],
      "text/latex": [
       "0.494049877958527"
      ],
      "text/markdown": [
       "0.494049877958527"
      ],
      "text/plain": [
       "[1] 0.4940499"
      ]
     },
     "metadata": {},
     "output_type": "display_data"
    }
   ],
   "source": [
    "# 独立性假设检验\n",
    "kruskal.test(x1 ~ y)$p.value\n",
    "kruskal.test(x2 ~ y)$p.value\n",
    "kruskal.test(x3 ~ y)$p.value\n",
    "kruskal.test(x4 ~ y)$p.value\n",
    "kruskal.test(x5 ~ y)$p.value\n",
    "kruskal.test(x6 ~ y)$p.value"
   ]
  },
  {
   "cell_type": "markdown",
   "id": "bd62ec7a",
   "metadata": {},
   "source": [
    "可见 p值均较大，不能拒绝x1~x6与y独立"
   ]
  },
  {
   "cell_type": "code",
   "execution_count": 10,
   "id": "9020a3a5",
   "metadata": {
    "vscode": {
     "languageId": "r"
    }
   },
   "outputs": [
    {
     "name": "stdout",
     "output_type": "stream",
     "text": [
      "  |==================================================================================================================================| 100%"
     ]
    },
    {
     "data": {
      "image/png": "[encoded data removed]",
      "text/plain": [
       "Plot with title \"VIP-permutation\""
      ]
     },
     "metadata": {
      "image/png": {
       "height": 600,
       "width": 1320
      }
     },
     "output_type": "display_data"
    }
   ],
   "source": [
    "nr <- 100 # number of experiment\n",
    "\n",
    "n <- 6\n",
    "ImpIpt <- matrix(ncol = n, nrow = nr) # 用于存储多次实验得到Permutation Importance的数据\n",
    "colnames(ImpIpt) <- paste(\"x\", (1:n), sep = \"\") # 以变量名命名列\n",
    "ImpIptc <- matrix(ncol = n, nrow = nr) # 用于存储多次实验得到Permutation Importance的数据\n",
    "colnames(ImpIptc) <- paste(\"x\", (1:n), sep = \"\") # 以变量名命名列\n",
    "ImpPerm <- matrix(ncol = n, nrow = nr) # 用于存储多次实验得到Permutation Importance的数据\n",
    "colnames(ImpPerm) <- paste(\"x\", (1:n), sep = \"\") # 以变量名命名列\n",
    "\n",
    "p_load(ranger)\n",
    "pb <- txtProgressBar(style = 3)\n",
    "for (i in 1:nr) {\n",
    "  set.seed(i)\n",
    "  rg1 <- ranger(y ~ ., data = dt, importance = \"impurity\")\n",
    "  rg2 <- ranger(y ~ ., data = dt, importance = \"impurity_corrected\")\n",
    "  rg3 <- ranger(y ~ ., data = dt, importance = \"permutation\")\n",
    "\n",
    "  ImpIpt[i, ] <- rg1$variable.importance\n",
    "  ImpIptc[i, ] <- rg2$variable.importance\n",
    "  ImpPerm[i, ] <- rg3$variable.importance\n",
    "\n",
    "  setTxtProgressBar(pb, i / nr)\n",
    "}\n",
    "\n",
    "par(mfrow = c(1, 3))\n",
    "boxplot(ImpIpt, main = \"VIP-impurity\")\n",
    "grid()\n",
    "boxplot(ImpIptc, main = \"VIP-impurity_corrected\")\n",
    "grid()\n",
    "boxplot(ImpPerm, main = \"VIP-permutation\")\n",
    "grid()"
   ]
  },
  {
   "cell_type": "markdown",
   "id": "9cc03ae0",
   "metadata": {},
   "source": [
    "可见ranger的回归问题重要性评价：\n",
    "- impurity算法倾向于类别多的变量\n",
    "- impurity_corrected、permutation算法无此倾向"
   ]
  },
  {
   "cell_type": "markdown",
   "id": "1be3187c",
   "metadata": {},
   "source": [
    "**Compute variable importance with p-values**\n",
    "\n",
    "--可以设置一个显著性水平，作为变量是否重要的阈值"
   ]
  },
  {
   "cell_type": "markdown",
   "id": "09b5ab71",
   "metadata": {},
   "source": [
    "数据集 $friedman1$按此方式生成模拟数据：自变量 $\\{X_j\\}^{10}_ {j=1}\\overset{iid}{\\sim} U(0,1)$，$Y=10\\sin(\\pi X_1X_2)+20(X_3-0.5)^2+10X_4+5X_5+\\epsilon$ ,  其中$\\epsilon\\sim N(0,\\sigma)$ ，请注意$X_6 \\sim X_{10} $ 独立于 $Y$，方便检验算法判断自变量重要性。"
   ]
  },
  {
   "cell_type": "code",
   "execution_count": 11,
   "id": "c5205ec7",
   "metadata": {
    "vscode": {
     "languageId": "r"
    }
   },
   "outputs": [],
   "source": [
    "library(pacman)\n",
    "\n",
    "options(warn = -1) # 忽略一切警告\n",
    "options(\"width\" = 140) # 充分利用打印宽度\n",
    "options(repr.plot.width = 15, repr.plot.height = 10) # 满幅\n",
    "\n",
    "p_load(rpart,ranger,skimr,treemisc)\n",
    "s <- skim_tee"
   ]
  },
  {
   "cell_type": "code",
   "execution_count": 12,
   "id": "4751ec95",
   "metadata": {
    "vscode": {
     "languageId": "r"
    }
   },
   "outputs": [
    {
     "name": "stdout",
     "output_type": "stream",
     "text": [
      "── Data Summary ────────────────────────\n",
      "                           Values\n",
      "Name                       data  \n",
      "Number of rows             1000  \n",
      "Number of columns          11    \n",
      "_______________________          \n",
      "Column type frequency:           \n",
      "  factor                   1     \n",
      "  numeric                  10    \n",
      "________________________         \n",
      "Group variables            None  \n",
      "\n",
      "── Variable type: factor ───────────────────────────────────────────────────────────────────────────────────────────────────────────────────\n",
      "  skim_variable n_missing complete_rate ordered n_unique top_counts        \n",
      "\u001b[90m1\u001b[39m y                     0             1 FALSE          2 TRU: 506, FAL: 494\n",
      "\n",
      "── Variable type: numeric ──────────────────────────────────────────────────────────────────────────────────────────────────────────────────\n",
      "   skim_variable n_missing complete_rate  mean    sd        p0   p25   p50   p75  p100 hist \n",
      "\u001b[90m 1\u001b[39m x1                    0             1 0.505 0.294 0.001\u001b[4m2\u001b[24m\u001b[4m9\u001b[24m   0.238 0.511 0.769 1.00  ▇▇▇▇▇\n",
      "\u001b[90m 2\u001b[39m x2                    0             1 0.492 0.292 0.001\u001b[4m3\u001b[24m\u001b[4m4\u001b[24m   0.231 0.499 0.749 0.999 ▇▇▇▇▇\n",
      "\u001b[90m 3\u001b[39m x3                    0             1 0.490 0.285 0.000\u001b[4m1\u001b[24m\u001b[4m1\u001b[24m\u001b[4m3\u001b[24m  0.242 0.482 0.740 0.999 ▇▇▇▇▇\n",
      "\u001b[90m 4\u001b[39m x4                    0             1 0.483 0.291 0.000\u001b[4m3\u001b[24m\u001b[4m8\u001b[24m\u001b[4m4\u001b[24m  0.229 0.476 0.743 0.999 ▇▇▇▇▇\n",
      "\u001b[90m 5\u001b[39m x5                    0             1 0.502 0.295 0.000\u001b[4m0\u001b[24m\u001b[4m5\u001b[24m\u001b[4m0\u001b[24m4 0.239 0.503 0.769 0.999 ▇▇▇▇▇\n",
      "\u001b[90m 6\u001b[39m x6                    0             1 0.497 0.293 0.000\u001b[4m1\u001b[24m\u001b[4m0\u001b[24m\u001b[4m4\u001b[24m  0.233 0.505 0.754 1.00  ▇▇▇▇▇\n",
      "\u001b[90m 7\u001b[39m x7                    0             1 0.507 0.287 0.001\u001b[4m2\u001b[24m\u001b[4m5\u001b[24m   0.268 0.516 0.754 0.999 ▇▇▇▇▇\n",
      "\u001b[90m 8\u001b[39m x8                    0             1 0.479 0.288 0.000\u001b[4m8\u001b[24m\u001b[4m2\u001b[24m\u001b[4m9\u001b[24m  0.223 0.470 0.720 1.00  ▇▇▇▇▆\n",
      "\u001b[90m 9\u001b[39m x9                    0             1 0.488 0.290 0.003\u001b[4m0\u001b[24m\u001b[4m3\u001b[24m   0.234 0.487 0.728 1.00  ▇▇▇▆▇\n",
      "\u001b[90m10\u001b[39m x10                   0             1 0.499 0.291 0.001\u001b[4m0\u001b[24m\u001b[4m8\u001b[24m   0.248 0.492 0.739 1.00  ▇▇▇▇▇\n"
     ]
    }
   ],
   "source": [
    "set.seed(943) # for reproducibility\n",
    "fr <- treemisc::gen_friedman1(1000, nx = 10, sigma = 0.1)\n",
    "fr$y <- factor(fr$y > 14.1)\n",
    "s(fr)"
   ]
  },
  {
   "cell_type": "code",
   "execution_count": 13,
   "id": "f649ee04",
   "metadata": {
    "vscode": {
     "languageId": "r"
    }
   },
   "outputs": [
    {
     "name": "stdout",
     "output_type": "stream",
     "text": [
      "── Data Summary ────────────────────────\n",
      "                           Values\n",
      "Name                       data  \n",
      "Number of rows             500   \n",
      "Number of columns          11    \n",
      "_______________________          \n",
      "Column type frequency:           \n",
      "  factor                   1     \n",
      "  numeric                  10    \n",
      "________________________         \n",
      "Group variables            None  \n",
      "\n",
      "── Variable type: factor ───────────────────────────────────────────────────────────────────────────────────────────────────────────────────\n",
      "  skim_variable n_missing complete_rate ordered n_unique top_counts        \n",
      "\u001b[90m1\u001b[39m y                     0             1 FALSE          2 FAL: 254, TRU: 246\n",
      "\n",
      "── Variable type: numeric ──────────────────────────────────────────────────────────────────────────────────────────────────────────────────\n",
      "   skim_variable n_missing complete_rate  mean    sd        p0   p25   p50   p75  p100 hist \n",
      "\u001b[90m 1\u001b[39m x1                    0             1 0.506 0.290 0.001\u001b[4m6\u001b[24m\u001b[4m6\u001b[24m   0.251 0.507 0.768 0.996 ▇▇▇▇▇\n",
      "\u001b[90m 2\u001b[39m x2                    0             1 0.481 0.296 0.004\u001b[4m7\u001b[24m\u001b[4m3\u001b[24m   0.206 0.477 0.747 0.994 ▇▆▆▆▆\n",
      "\u001b[90m 3\u001b[39m x3                    0             1 0.498 0.274 0.000\u001b[4m8\u001b[24m\u001b[4m5\u001b[24m\u001b[4m2\u001b[24m  0.272 0.489 0.728 0.999 ▆▇▇▇▆\n",
      "\u001b[90m 4\u001b[39m x4                    0             1 0.495 0.286 0.000\u001b[4m9\u001b[24m\u001b[4m1\u001b[24m\u001b[4m2\u001b[24m  0.252 0.485 0.740 0.999 ▇▇▇▇▇\n",
      "\u001b[90m 5\u001b[39m x5                    0             1 0.484 0.300 0.000\u001b[4m0\u001b[24m\u001b[4m5\u001b[24m\u001b[4m0\u001b[24m4 0.220 0.476 0.761 0.999 ▇▇▆▇▇\n",
      "\u001b[90m 6\u001b[39m x6                    0             1 0.496 0.296 0.001\u001b[4m6\u001b[24m\u001b[4m5\u001b[24m   0.219 0.515 0.753 1.00  ▇▇▇▇▇\n",
      "\u001b[90m 7\u001b[39m x7                    0             1 0.511 0.294 0.001\u001b[4m2\u001b[24m\u001b[4m5\u001b[24m   0.270 0.535 0.766 0.999 ▇▆▆▇▇\n",
      "\u001b[90m 8\u001b[39m x8                    0             1 0.483 0.290 0.002\u001b[4m3\u001b[24m\u001b[4m5\u001b[24m   0.238 0.456 0.727 1.00  ▇▇▇▆▇\n",
      "\u001b[90m 9\u001b[39m x9                    0             1 0.486 0.294 0.003\u001b[4m0\u001b[24m\u001b[4m3\u001b[24m   0.224 0.476 0.739 1.00  ▇▆▇▆▇\n",
      "\u001b[90m10\u001b[39m x10                   0             1 0.499 0.284 0.002\u001b[4m0\u001b[24m\u001b[4m9\u001b[24m   0.260 0.497 0.731 0.999 ▇▇▇▇▇\n"
     ]
    }
   ],
   "source": [
    "#将数据集1:1随机分割成训练集和测试集\n",
    "set.seed(100)\n",
    "I <- sample(nrow(fr),nrow(fr)*0.5)\n",
    "train_fr <- fr[I,]\n",
    "test_fr <- fr[-I,]\n",
    "s(train_fr)"
   ]
  },
  {
   "cell_type": "code",
   "execution_count": 14,
   "id": "7e0cda9b",
   "metadata": {
    "vscode": {
     "languageId": "r"
    }
   },
   "outputs": [
    {
     "data": {
      "text/html": [
       "<table class=\"dataframe\">\n",
       "<caption>A matrix: 10 × 2 of type dbl</caption>\n",
       "<thead>\n",
       "\t<tr><th></th><th scope=col>importance</th><th scope=col>pvalue</th></tr>\n",
       "</thead>\n",
       "<tbody>\n",
       "\t<tr><th scope=row>x1</th><td>30.65108821</td><td>0.00990099</td></tr>\n",
       "\t<tr><th scope=row>x2</th><td>28.63528696</td><td>0.00990099</td></tr>\n",
       "\t<tr><th scope=row>x3</th><td> 5.72731364</td><td>0.00990099</td></tr>\n",
       "\t<tr><th scope=row>x4</th><td>33.55785631</td><td>0.00990099</td></tr>\n",
       "\t<tr><th scope=row>x5</th><td> 7.72685797</td><td>0.00990099</td></tr>\n",
       "\t<tr><th scope=row>x6</th><td> 0.53424710</td><td>0.41584158</td></tr>\n",
       "\t<tr><th scope=row>x7</th><td>-0.38797612</td><td>0.67326733</td></tr>\n",
       "\t<tr><th scope=row>x8</th><td>-1.11848661</td><td>0.85148515</td></tr>\n",
       "\t<tr><th scope=row>x9</th><td> 0.95760903</td><td>0.24752475</td></tr>\n",
       "\t<tr><th scope=row>x10</th><td> 0.01910408</td><td>0.52475248</td></tr>\n",
       "</tbody>\n",
       "</table>\n"
      ],
      "text/latex": [
       "A matrix: 10 × 2 of type dbl\n",
       "\\begin{tabular}{r|ll}\n",
       "  & importance & pvalue\\\\\n",
       "\\hline\n",
       "\tx1 & 30.65108821 & 0.00990099\\\\\n",
       "\tx2 & 28.63528696 & 0.00990099\\\\\n",
       "\tx3 &  5.72731364 & 0.00990099\\\\\n",
       "\tx4 & 33.55785631 & 0.00990099\\\\\n",
       "\tx5 &  7.72685797 & 0.00990099\\\\\n",
       "\tx6 &  0.53424710 & 0.41584158\\\\\n",
       "\tx7 & -0.38797612 & 0.67326733\\\\\n",
       "\tx8 & -1.11848661 & 0.85148515\\\\\n",
       "\tx9 &  0.95760903 & 0.24752475\\\\\n",
       "\tx10 &  0.01910408 & 0.52475248\\\\\n",
       "\\end{tabular}\n"
      ],
      "text/markdown": [
       "\n",
       "A matrix: 10 × 2 of type dbl\n",
       "\n",
       "| <!--/--> | importance | pvalue |\n",
       "|---|---|---|\n",
       "| x1 | 30.65108821 | 0.00990099 |\n",
       "| x2 | 28.63528696 | 0.00990099 |\n",
       "| x3 |  5.72731364 | 0.00990099 |\n",
       "| x4 | 33.55785631 | 0.00990099 |\n",
       "| x5 |  7.72685797 | 0.00990099 |\n",
       "| x6 |  0.53424710 | 0.41584158 |\n",
       "| x7 | -0.38797612 | 0.67326733 |\n",
       "| x8 | -1.11848661 | 0.85148515 |\n",
       "| x9 |  0.95760903 | 0.24752475 |\n",
       "| x10 |  0.01910408 | 0.52475248 |\n",
       "\n"
      ],
      "text/plain": [
       "    importance  pvalue    \n",
       "x1  30.65108821 0.00990099\n",
       "x2  28.63528696 0.00990099\n",
       "x3   5.72731364 0.00990099\n",
       "x4  33.55785631 0.00990099\n",
       "x5   7.72685797 0.00990099\n",
       "x6   0.53424710 0.41584158\n",
       "x7  -0.38797612 0.67326733\n",
       "x8  -1.11848661 0.85148515\n",
       "x9   0.95760903 0.24752475\n",
       "x10  0.01910408 0.52475248"
      ]
     },
     "metadata": {},
     "output_type": "display_data"
    }
   ],
   "source": [
    "set.seed(71)\n",
    "rf_fr <- ranger(y ~ ., data = train_fr, importance = \"impurity_corrected\")\n",
    "importance_pvalues(rf_fr, method = \"altmann\", formula = y ~ ., data = train_fr)"
   ]
  },
  {
   "cell_type": "code",
   "execution_count": 15,
   "id": "1cb6dbc9",
   "metadata": {
    "vscode": {
     "languageId": "r"
    }
   },
   "outputs": [
    {
     "data": {
      "text/html": [
       "<table class=\"dataframe\">\n",
       "<caption>A matrix: 10 × 2 of type dbl</caption>\n",
       "<thead>\n",
       "\t<tr><th></th><th scope=col>importance</th><th scope=col>pvalue</th></tr>\n",
       "</thead>\n",
       "<tbody>\n",
       "\t<tr><th scope=row>x1</th><td>30.65108821</td><td>0.00</td></tr>\n",
       "\t<tr><th scope=row>x2</th><td>28.63528696</td><td>0.00</td></tr>\n",
       "\t<tr><th scope=row>x3</th><td> 5.72731364</td><td>0.00</td></tr>\n",
       "\t<tr><th scope=row>x4</th><td>33.55785631</td><td>0.00</td></tr>\n",
       "\t<tr><th scope=row>x5</th><td> 7.72685797</td><td>0.00</td></tr>\n",
       "\t<tr><th scope=row>x6</th><td> 0.53424710</td><td>0.25</td></tr>\n",
       "\t<tr><th scope=row>x7</th><td>-0.38797612</td><td>0.75</td></tr>\n",
       "\t<tr><th scope=row>x8</th><td>-1.11848661</td><td>1.00</td></tr>\n",
       "\t<tr><th scope=row>x9</th><td> 0.95760903</td><td>0.25</td></tr>\n",
       "\t<tr><th scope=row>x10</th><td> 0.01910408</td><td>0.50</td></tr>\n",
       "</tbody>\n",
       "</table>\n"
      ],
      "text/latex": [
       "A matrix: 10 × 2 of type dbl\n",
       "\\begin{tabular}{r|ll}\n",
       "  & importance & pvalue\\\\\n",
       "\\hline\n",
       "\tx1 & 30.65108821 & 0.00\\\\\n",
       "\tx2 & 28.63528696 & 0.00\\\\\n",
       "\tx3 &  5.72731364 & 0.00\\\\\n",
       "\tx4 & 33.55785631 & 0.00\\\\\n",
       "\tx5 &  7.72685797 & 0.00\\\\\n",
       "\tx6 &  0.53424710 & 0.25\\\\\n",
       "\tx7 & -0.38797612 & 0.75\\\\\n",
       "\tx8 & -1.11848661 & 1.00\\\\\n",
       "\tx9 &  0.95760903 & 0.25\\\\\n",
       "\tx10 &  0.01910408 & 0.50\\\\\n",
       "\\end{tabular}\n"
      ],
      "text/markdown": [
       "\n",
       "A matrix: 10 × 2 of type dbl\n",
       "\n",
       "| <!--/--> | importance | pvalue |\n",
       "|---|---|---|\n",
       "| x1 | 30.65108821 | 0.00 |\n",
       "| x2 | 28.63528696 | 0.00 |\n",
       "| x3 |  5.72731364 | 0.00 |\n",
       "| x4 | 33.55785631 | 0.00 |\n",
       "| x5 |  7.72685797 | 0.00 |\n",
       "| x6 |  0.53424710 | 0.25 |\n",
       "| x7 | -0.38797612 | 0.75 |\n",
       "| x8 | -1.11848661 | 1.00 |\n",
       "| x9 |  0.95760903 | 0.25 |\n",
       "| x10 |  0.01910408 | 0.50 |\n",
       "\n"
      ],
      "text/plain": [
       "    importance  pvalue\n",
       "x1  30.65108821 0.00  \n",
       "x2  28.63528696 0.00  \n",
       "x3   5.72731364 0.00  \n",
       "x4  33.55785631 0.00  \n",
       "x5   7.72685797 0.00  \n",
       "x6   0.53424710 0.25  \n",
       "x7  -0.38797612 0.75  \n",
       "x8  -1.11848661 1.00  \n",
       "x9   0.95760903 0.25  \n",
       "x10  0.01910408 0.50  "
      ]
     },
     "metadata": {},
     "output_type": "display_data"
    }
   ],
   "source": [
    "set.seed(71)\n",
    "rf_fr <- ranger(y ~ ., data = train_fr, importance = \"impurity_corrected\")\n",
    "importance_pvalues(rf_fr, method = \"janitza\")"
   ]
  },
  {
   "cell_type": "markdown",
   "id": "5817cbdf",
   "metadata": {},
   "source": [
    "若以0.05作为显著性水平，可以清晰地判断出$X_6 \\sim X_{10} $不重要"
   ]
  },
  {
   "cell_type": "markdown",
   "id": "40d113fa",
   "metadata": {},
   "source": [
    "## 代价敏感分类"
   ]
  },
  {
   "cell_type": "code",
   "execution_count": 16,
   "id": "e2bbbb15",
   "metadata": {
    "vscode": {
     "languageId": "r"
    }
   },
   "outputs": [],
   "source": [
    "library(pacman)\n",
    "\n",
    "options(warn = -1) # 忽略一切警告\n",
    "options(\"width\" = 140) # 充分利用打印宽度\n",
    "options(repr.plot.width = 22, repr.plot.height = 10) # 满幅\n",
    "\n",
    "p_load(ranger, AppliedPredictiveModeling, skimr)\n",
    "s <- skim_tee"
   ]
  },
  {
   "cell_type": "markdown",
   "id": "2a9208c7",
   "metadata": {},
   "source": [
    "**导入、改造、勘察数据**"
   ]
  },
  {
   "cell_type": "code",
   "execution_count": 17,
   "id": "8edc32e1",
   "metadata": {
    "vscode": {
     "languageId": "r"
    }
   },
   "outputs": [
    {
     "name": "stdout",
     "output_type": "stream",
     "text": [
      "── Data Summary ────────────────────────\n",
      "                           Values\n",
      "Name                       data  \n",
      "Number of rows             4177  \n",
      "Number of columns          9     \n",
      "_______________________          \n",
      "Column type frequency:           \n",
      "  factor                   2     \n",
      "  numeric                  7     \n",
      "________________________         \n",
      "Group variables            None  \n",
      "\n",
      "── Variable type: factor ───────────────────────────────────────────────────────────────────────────────────────────────────────────────────\n",
      "  skim_variable n_missing complete_rate ordered n_unique top_counts               \n",
      "\u001b[90m1\u001b[39m Type                  0             1 FALSE          3 M: 1528, I: 1342, F: 1307\n",
      "\u001b[90m2\u001b[39m Rings                 0             1 FALSE          2 L: 3484, H: 693          \n",
      "\n",
      "── Variable type: numeric ──────────────────────────────────────────────────────────────────────────────────────────────────────────────────\n",
      "  skim_variable n_missing complete_rate  mean     sd     p0    p25   p50   p75  p100 hist \n",
      "\u001b[90m1\u001b[39m LongestShell          0             1 0.524 0.120  0.075  0.45   0.545 0.615 0.815 ▁▂▅▇▂\n",
      "\u001b[90m2\u001b[39m Diameter              0             1 0.408 0.099\u001b[4m2\u001b[24m 0.055  0.35   0.425 0.48  0.65  ▁▂▆▇▁\n",
      "\u001b[90m3\u001b[39m Height                0             1 0.140 0.041\u001b[4m8\u001b[24m 0      0.115  0.14  0.165 1.13  ▇▁▁▁▁\n",
      "\u001b[90m4\u001b[39m WholeWeight           0             1 0.829 0.490  0.002  0.442  0.800 1.15  2.83  ▇▇▅▁▁\n",
      "\u001b[90m5\u001b[39m ShuckedWeight         0             1 0.359 0.222  0.001  0.186  0.336 0.502 1.49  ▇▇▂▁▁\n",
      "\u001b[90m6\u001b[39m VisceraWeight         0             1 0.181 0.110  0.000\u001b[4m5\u001b[24m 0.093\u001b[4m5\u001b[24m 0.171 0.253 0.76  ▇▇▂▁▁\n",
      "\u001b[90m7\u001b[39m ShellWeight           0             1 0.239 0.139  0.001\u001b[4m5\u001b[24m 0.13   0.234 0.329 1.00  ▇▇▂▁▁\n"
     ]
    }
   ],
   "source": [
    "data(abalone)\n",
    "ab <- abalone\n",
    "ab$Rings <- factor((ab$Rings) > 12, labels = c(\"L\", \"H\"))\n",
    "s(ab)"
   ]
  },
  {
   "cell_type": "markdown",
   "id": "dc86e24f",
   "metadata": {},
   "source": [
    "可见目标变量Rings的类别并不平衡，数量L类约为H类的5倍\n",
    "\n",
    "假定H类被错判的代价为5，L类被错判的代价为1"
   ]
  },
  {
   "cell_type": "markdown",
   "id": "798a293a",
   "metadata": {},
   "source": [
    "**将数据随机平分为训练集和测试集：**"
   ]
  },
  {
   "cell_type": "code",
   "execution_count": 18,
   "id": "8b920470",
   "metadata": {
    "vscode": {
     "languageId": "r"
    }
   },
   "outputs": [
    {
     "name": "stdout",
     "output_type": "stream",
     "text": [
      "── Data Summary ────────────────────────\n",
      "                           Values\n",
      "Name                       data  \n",
      "Number of rows             2088  \n",
      "Number of columns          9     \n",
      "_______________________          \n",
      "Column type frequency:           \n",
      "  factor                   2     \n",
      "  numeric                  7     \n",
      "________________________         \n",
      "Group variables            None  \n",
      "\n",
      "── Variable type: factor ───────────────────────────────────────────────────────────────────────────────────────────────────────────────────\n",
      "  skim_variable n_missing complete_rate ordered n_unique top_counts            \n",
      "\u001b[90m1\u001b[39m Type                  0             1 FALSE          3 M: 776, I: 675, F: 637\n",
      "\u001b[90m2\u001b[39m Rings                 0             1 FALSE          2 L: 1737, H: 351       \n",
      "\n",
      "── Variable type: numeric ──────────────────────────────────────────────────────────────────────────────────────────────────────────────────\n",
      "  skim_variable n_missing complete_rate  mean     sd     p0    p25   p50   p75  p100 hist \n",
      "\u001b[90m1\u001b[39m LongestShell          0             1 0.525 0.120  0.13   0.45   0.545 0.615 0.815 ▁▂▆▇▁\n",
      "\u001b[90m2\u001b[39m Diameter              0             1 0.409 0.099\u001b[4m5\u001b[24m 0.095  0.35   0.425 0.48  0.65  ▁▃▆▇▁\n",
      "\u001b[90m3\u001b[39m Height                0             1 0.140 0.039\u001b[4m7\u001b[24m 0      0.115  0.14  0.165 0.515 ▂▇▁▁▁\n",
      "\u001b[90m4\u001b[39m WholeWeight           0             1 0.833 0.493  0.010\u001b[4m5\u001b[24m 0.447  0.806 1.15  2.78  ▇▇▅▁▁\n",
      "\u001b[90m5\u001b[39m ShuckedWeight         0             1 0.362 0.224  0.005  0.190  0.342 0.498 1.49  ▇▇▂▁▁\n",
      "\u001b[90m6\u001b[39m VisceraWeight         0             1 0.181 0.110  0.002\u001b[4m5\u001b[24m 0.094\u001b[4m2\u001b[24m 0.172 0.253 0.76  ▇▇▂▁▁\n",
      "\u001b[90m7\u001b[39m ShellWeight           0             1 0.240 0.141  0.003\u001b[4m5\u001b[24m 0.13   0.235 0.33  0.885 ▇▇▃▁▁\n"
     ]
    }
   ],
   "source": [
    "set.seed(100)\n",
    "i <- sample(nrow(ab), nrow(ab) * 0.5)\n",
    "tr_ab <- ab[i, ]\n",
    "te_ab <- ab[-i, ]\n",
    "s(tr_ab)"
   ]
  },
  {
   "cell_type": "code",
   "execution_count": 19,
   "id": "1170151f",
   "metadata": {
    "vscode": {
     "languageId": "r"
    }
   },
   "outputs": [],
   "source": [
    "cm <- matrix(c(0,1,5,0), nrow = 2, byrow = TRUE)  #cost matrix"
   ]
  },
  {
   "cell_type": "code",
   "execution_count": 20,
   "id": "8bce59d8",
   "metadata": {
    "vscode": {
     "languageId": "r"
    }
   },
   "outputs": [
    {
     "data": {
      "text/html": [
       "<style>\n",
       ".list-inline {list-style: none; margin:0; padding: 0}\n",
       ".list-inline>li {display: inline-block}\n",
       ".list-inline>li:not(:last-child)::after {content: \"\\00b7\"; padding: 0 .5ex}\n",
       "</style>\n",
       "<ol class=list-inline><li>'L'</li><li>'H'</li></ol>\n"
      ],
      "text/latex": [
       "\\begin{enumerate*}\n",
       "\\item 'L'\n",
       "\\item 'H'\n",
       "\\end{enumerate*}\n"
      ],
      "text/markdown": [
       "1. 'L'\n",
       "2. 'H'\n",
       "\n",
       "\n"
      ],
      "text/plain": [
       "[1] \"L\" \"H\""
      ]
     },
     "metadata": {},
     "output_type": "display_data"
    }
   ],
   "source": [
    "(levels(tr_ab$Rings))"
   ]
  },
  {
   "cell_type": "markdown",
   "id": "25129d2a",
   "metadata": {},
   "source": [
    "### CaseWeight法"
   ]
  },
  {
   "cell_type": "code",
   "execution_count": 21,
   "id": "73ff83cf",
   "metadata": {
    "vscode": {
     "languageId": "r"
    }
   },
   "outputs": [
    {
     "data": {
      "text/html": [
       "737"
      ],
      "text/latex": [
       "737"
      ],
      "text/markdown": [
       "737"
      ],
      "text/plain": [
       "[1] 737"
      ]
     },
     "metadata": {},
     "output_type": "display_data"
    }
   ],
   "source": [
    "cw <- ifelse(tr_ab$Rings == \"H\",5,1) \n",
    "set.seed(711)\n",
    "rg_ab1 <- ranger(Rings ~ .,  data = tr_ab, case.weights = cw, min.node.size = 100)  \n",
    "#min.node.size不能太小，否则case.weights没有施展空间\n",
    "sum(matrix(table(te_ab$Rings, predict(rg_ab1, te_ab, type = \"response\")$predictions) * cm))"
   ]
  },
  {
   "cell_type": "markdown",
   "id": "03019dea",
   "metadata": {},
   "source": [
    "### ClassWeight法"
   ]
  },
  {
   "cell_type": "code",
   "execution_count": 22,
   "id": "ed84f6be",
   "metadata": {
    "vscode": {
     "languageId": "r"
    }
   },
   "outputs": [
    {
     "data": {
      "text/html": [
       "737"
      ],
      "text/latex": [
       "737"
      ],
      "text/markdown": [
       "737"
      ],
      "text/plain": [
       "[1] 737"
      ]
     },
     "metadata": {},
     "output_type": "display_data"
    }
   ],
   "source": [
    "set.seed(711)\n",
    "rg_ab2 <- ranger(Rings ~ .,  data = tr_ab, class.weights = c(1,5), num.trees = 1000, min.node.size=100)\n",
    "#min.node.size不能太小，否则class.weights没有施展空间\n",
    "sum(matrix(table(te_ab$Rings, predict(rg_ab2, te_ab, type = \"response\")$predictions) * cm))"
   ]
  },
  {
   "cell_type": "code",
   "execution_count": 23,
   "id": "5e896c1b-d8e8-48b9-8db3-cd57acf12f38",
   "metadata": {
    "vscode": {
     "languageId": "r"
    }
   },
   "outputs": [
    {
     "data": {
      "text/plain": [
       "Ranger result\n",
       "\n",
       "Call:\n",
       " ranger(Sale_Price ~ ., data = ames, splitrule = \"extratrees\") \n",
       "\n",
       "Type:                             Regression \n",
       "Number of trees:                  500 \n",
       "Sample size:                      2930 \n",
       "Number of independent variables:  80 \n",
       "Mtry:                             8 \n",
       "Target node size:                 5 \n",
       "Variable importance mode:         none \n",
       "Splitrule:                        extratrees \n",
       "Number of random splits:          1 \n",
       "OOB prediction error (MSE):       752661680 \n",
       "R squared (OOB):                  0.8820628 "
      ]
     },
     "metadata": {},
     "output_type": "display_data"
    }
   ],
   "source": [
    "(rf <- ranger(Sale_Price ~ ., data = ames, splitrule= \"extratrees\")) "
   ]
  },
  {
   "cell_type": "code",
   "execution_count": 24,
   "id": "ecf86048-5be5-4388-b9f8-a31ca479ade4",
   "metadata": {
    "vscode": {
     "languageId": "r"
    }
   },
   "outputs": [
    {
     "data": {
      "text/plain": [
       "Ranger result\n",
       "\n",
       "Call:\n",
       " ranger(Sale_Price ~ ., data = ames, splitrule = \"maxstat\") \n",
       "\n",
       "Type:                             Regression \n",
       "Number of trees:                  500 \n",
       "Sample size:                      2930 \n",
       "Number of independent variables:  80 \n",
       "Mtry:                             8 \n",
       "Target node size:                 5 \n",
       "Variable importance mode:         none \n",
       "Splitrule:                        maxstat \n",
       "OOB prediction error (MSE):       890477117 \n",
       "R squared (OOB):                  0.860468 "
      ]
     },
     "metadata": {},
     "output_type": "display_data"
    }
   ],
   "source": [
    "(rf <- ranger(Sale_Price ~ ., data = ames, splitrule= \"maxstat\"))   #splitrule=\"beta\"等效"
   ]
  },
  {
   "cell_type": "markdown",
   "id": "138ece86-09de-463f-abc5-a86245d2562f",
   "metadata": {},
   "source": [
    "## 分位数回归\n",
    "\n",
    "普通线性回归（Ordinary linear regression，OLS）模型关注的是均值，研究的是在某些解释变量在取值固定的条件下响应变量的期望均值，模型估计方法是最小二乘法，使各个样本残差平方和最小。但是普通线性回归最基本的假设是残差满足正态分布、随机独立、方差齐同，现实中这些条件常常得不到满足。如果样本数据中存在异常值，普通线性回归模型估计值可能会存在较大偏差。有时候我们不仅希望研究响应变量的期望均值，而且希望能探索响应变量的全局分布（比如响应变量的某个分位数），这时候就需要分位数回归了。"
   ]
  },
  {
   "cell_type": "code",
   "execution_count": 25,
   "id": "8132f0f9",
   "metadata": {
    "vscode": {
     "languageId": "r"
    }
   },
   "outputs": [
    {
     "data": {
      "text/html": [
       "<table class=\"dataframe\">\n",
       "<caption>A matrix: 6 × 3 of type dbl</caption>\n",
       "<thead>\n",
       "\t<tr><th scope=col>quantile= 0.1</th><th scope=col>quantile= 0.5</th><th scope=col>quantile= 0.9</th></tr>\n",
       "</thead>\n",
       "<tbody>\n",
       "\t<tr><td>21.0</td><td>22.8</td><td>32.4</td></tr>\n",
       "\t<tr><td>21.0</td><td>22.8</td><td>32.4</td></tr>\n",
       "\t<tr><td>13.3</td><td>15.5</td><td>30.4</td></tr>\n",
       "\t<tr><td>15.2</td><td>21.0</td><td>22.8</td></tr>\n",
       "\t<tr><td>13.3</td><td>14.3</td><td>21.0</td></tr>\n",
       "\t<tr><td>21.0</td><td>22.8</td><td>32.4</td></tr>\n",
       "</tbody>\n",
       "</table>\n"
      ],
      "text/latex": [
       "A matrix: 6 × 3 of type dbl\n",
       "\\begin{tabular}{lll}\n",
       " quantile= 0.1 & quantile= 0.5 & quantile= 0.9\\\\\n",
       "\\hline\n",
       "\t 21.0 & 22.8 & 32.4\\\\\n",
       "\t 21.0 & 22.8 & 32.4\\\\\n",
       "\t 13.3 & 15.5 & 30.4\\\\\n",
       "\t 15.2 & 21.0 & 22.8\\\\\n",
       "\t 13.3 & 14.3 & 21.0\\\\\n",
       "\t 21.0 & 22.8 & 32.4\\\\\n",
       "\\end{tabular}\n"
      ],
      "text/markdown": [
       "\n",
       "A matrix: 6 × 3 of type dbl\n",
       "\n",
       "| quantile= 0.1 | quantile= 0.5 | quantile= 0.9 |\n",
       "|---|---|---|\n",
       "| 21.0 | 22.8 | 32.4 |\n",
       "| 21.0 | 22.8 | 32.4 |\n",
       "| 13.3 | 15.5 | 30.4 |\n",
       "| 15.2 | 21.0 | 22.8 |\n",
       "| 13.3 | 14.3 | 21.0 |\n",
       "| 21.0 | 22.8 | 32.4 |\n",
       "\n"
      ],
      "text/plain": [
       "     quantile= 0.1 quantile= 0.5 quantile= 0.9\n",
       "[1,] 21.0          22.8          32.4         \n",
       "[2,] 21.0          22.8          32.4         \n",
       "[3,] 13.3          15.5          30.4         \n",
       "[4,] 15.2          21.0          22.8         \n",
       "[5,] 13.3          14.3          21.0         \n",
       "[6,] 21.0          22.8          32.4         "
      ]
     },
     "metadata": {},
     "output_type": "display_data"
    }
   ],
   "source": [
    "rf <- ranger(mpg ~ ., mtcars[1:26, ], quantreg = TRUE)\n",
    "pred <- predict(rf, mtcars[27:32, ], type = \"quantiles\", quantiles = c(0.1, 0.5, 0.9))\n",
    "pred$predictions"
   ]
  }
 ],
 "metadata": {
  "kernelspec": {
   "display_name": "R",
   "language": "R",
   "name": "ir"
  },
  "language_info": {
   "codemirror_mode": "r",
   "file_extension": ".r",
   "mimetype": "text/x-r-source",
   "name": "R",
   "pygments_lexer": "r",
   "version": "4.3.2"
  },
  "widgets": {
   "application/vnd.jupyter.widget-state+json": {
    "state": {},
    "version_major": 2,
    "version_minor": 0
   }
  }
 },
 "nbformat": 4,
 "nbformat_minor": 5
}
