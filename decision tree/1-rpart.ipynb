{
 "cells": [
  {
   "cell_type": "markdown",
   "metadata": {},
   "source": [
    "# rpart: Recursive Partitioning and Regression Trees\n",
    "\n",
    "rpart决策树的特点：\n",
    "\n",
    "1. 分类和回归的自变量既允许连续取值，也允许离散取值；\n",
    "1. 不要求自变量之间相互独立；\n",
    "1. 方便评价自变量的重要性；\n",
    "1. 方便实现代价敏感分类；\n",
    "1. 有效地应对自变量缺失。\n",
    "\n",
    "算法参见：\n",
    "- https://zhuanlan.zhihu.com/p/85731206\n",
    "- https://zhuanlan.zhihu.com/p/139519852\n",
    "- https://zhuanlan.zhihu.com/p/82054400\n",
    "\n",
    "  注：单个博文的介绍不一定详尽和正确，应综合参考。"
   ]
  },
  {
   "attachments": {},
   "cell_type": "markdown",
   "metadata": {},
   "source": [
    "# 算法解析\n",
    "\n",
    "\n",
    "1. 在二维平面上直观地观察rpart决策树分类和回归--可较好地拟合理论曲线；\n",
    "2. 平衡、代价不敏感、无缺失值、自变量混合取值分类实例：了解cp值对模型复杂度的控制；基于1-SE原则确定最优cp值；画出决策树，了解其清晰的层次判断结构；通过比对最优决策树在训练集和测试集上的误差，学会怎样将得到的决策树应用于预测；了解rpart算法在分类时如何评价(自变量)变量的重要性；学习当目标变量有二个以上类别时，如何判读决策树图。\n",
    "3. 非平衡、代价敏感、无缺失值分类实例：了解先验法、代价法、权重法的实现方式，发现三者等效。\n",
    "4. $friedman1$数据集 ，是一个简单和较为普通的分类问题，通过此算例了解决策树分类的基本算法：cp表各项值，特别是xerror的含义；观察xerror随cp降低的变化趋势--通过1-SE原则找到最优cp值，构建最优决策树；通过训练集和测试集错判率的cp曲线验证1-SE最优cp值的准确数，最后讲解变量重要性评价方式。"
   ]
  },
  {
   "cell_type": "markdown",
   "metadata": {},
   "source": [
    "## 直观观察"
   ]
  },
  {
   "cell_type": "markdown",
   "metadata": {},
   "source": [
    "### 分类界线"
   ]
  },
  {
   "cell_type": "code",
   "execution_count": null,
   "metadata": {
    "tags": [],
    "vscode": {
     "languageId": "r"
    }
   },
   "outputs": [],
   "source": [
    "library(pacman)\n",
    "\n",
    "options(warn = -1) # 忽略一切警告\n",
    "options(\"width\" = 140) # 充分利用打印宽度\n",
    "options(repr.plot.width = 15, repr.plot.height = 10) # 满幅\n",
    "\n",
    "p_load(rpart,rattle,treemisc,skimr)\n",
    "s <- skim_tee    #勘察数据"
   ]
  },
  {
   "cell_type": "markdown",
   "metadata": {},
   "source": [
    "**生成训练集**"
   ]
  },
  {
   "cell_type": "code",
   "execution_count": null,
   "metadata": {
    "vscode": {
     "languageId": "r"
    }
   },
   "outputs": [],
   "source": [
    "n <- 10000\n",
    "u <- 10 # 取值范围\n",
    "v <- 5  # 噪声影响强度\n",
    "\n",
    "set.seed(11)\n",
    "x1 <- sort(runif(n, min = -u, max = u))\n",
    "x2 <- x1 * cos(x1) + v * rnorm(n) - 4\n",
    "y <- 1\n",
    "d0 <- data.frame(y, x1, x2)\n",
    "\n",
    "set.seed(101)\n",
    "x1 <- sort(runif(n, min = -u, max = u))\n",
    "x2 <- x1 * cos(x1) + v * rnorm(n) + 4\n",
    "y <- 2\n",
    "d1 <- data.frame(y, x1, x2)\n",
    "\n",
    "d_tr <- rbind(d0, d1)\n",
    "d_tr$y <- factor(d_tr$y) # 生成训练集\n",
    "plot(d_tr$x1, d_tr$x2, col = d_tr$y, xlab = \"x1\", ylab = \"x2\", cex = 0.5)\n",
    "x2 <- x1 * cos(x1)\n",
    "lines(x1, x2, col = \"blue\", lwd = 6, lty = 3, add = TRUE)\n",
    "legend(\"bottomright\", \"理论分类界限\", lwd = 6, col = \"blue\", lty = 3, cex = 0.8)\n",
    "grid()"
   ]
  },
  {
   "cell_type": "markdown",
   "metadata": {},
   "source": [
    "**cp曲线**"
   ]
  },
  {
   "cell_type": "code",
   "execution_count": null,
   "metadata": {
    "tags": [],
    "vscode": {
     "languageId": "r"
    }
   },
   "outputs": [],
   "source": [
    "set.seed(2) # 固定xstd：xerror具有随机性--数据随机分割的原因\n",
    "ct <- rpart(y ~ ., data = d_tr, method = \"class\", cp = 0)   # cp=0:取消cp在模型复杂度上的约束\n",
    "plotcp(ct)\n",
    "grid()"
   ]
  },
  {
   "cell_type": "markdown",
   "metadata": {},
   "source": [
    "上图曲线与水平虚线相交最左边的点即最优cp值(1-SE规则:最低xerror上浮其一个标准差所对应的最大cp值)"
   ]
  },
  {
   "cell_type": "markdown",
   "metadata": {},
   "source": [
    "**完全树**--cp=0：决策树充分生长(除了其他默认分枝要求)，可见分类界限复杂"
   ]
  },
  {
   "cell_type": "code",
   "execution_count": null,
   "metadata": {
    "vscode": {
     "languageId": "r"
    }
   },
   "outputs": [],
   "source": [
    "plot(d_tr$x1, d_tr$x2, col = d_tr$y, xlab = \"x1\", ylab = \"x2\", cex = 0.5)\n",
    "\n",
    "ct1 <- rpart(y ~ ., data = d_tr, method = \"class\", cp = 0)\n",
    "\n",
    "x1 <- seq(min(d_tr$x1), max(d_tr$x1), length = 100)\n",
    "x2 <- seq(min(d_tr$x2), max(d_tr$x2), length = 100)\n",
    "pd <- function(x1, x2){\n",
    "  predict(ct1, data.frame(x1, x2), type = \"prob\")[, 1]\n",
    "}\n",
    "\n",
    "z <- outer(x1, x2, FUN = pd)\n",
    "contour(x1, x2, z,\n",
    "  levels = 0.5, drawlabels = FALSE,\n",
    "  lwd = 6, col = \"blue\", add = TRUE\n",
    ") # 画出分类界限--置信度为0.5的等高线\n",
    "\n",
    "legend(\"bottomright\", \"分类界限-完全树\", lwd = 6, col = \"blue\", lty = 1,cex = 0.8)\n",
    "grid()"
   ]
  },
  {
   "cell_type": "markdown",
   "metadata": {},
   "source": [
    "**最简树**--只有根节点：分类界限极度简单"
   ]
  },
  {
   "cell_type": "code",
   "execution_count": null,
   "metadata": {
    "vscode": {
     "languageId": "r"
    }
   },
   "outputs": [],
   "source": [
    "plot(d_tr$x1, d_tr$x2, col = d_tr$y, xlab = \"x1\", ylab = \"x2\", cex = 0.5)\n",
    "\n",
    "ct2 <- rpart(y ~ ., data = d_tr, method = \"class\", cp = Inf)\n",
    "x1 <- seq(min(d_tr$x1), max(d_tr$x1), length = 100)\n",
    "x2 <- seq(min(d_tr$x2), max(d_tr$x2), length = 100)\n",
    "\n",
    "pd <- function(x1, x2){\n",
    "  predict(ct2, data.frame(x1, x2), type = \"prob\")[, 1]\n",
    "}\n",
    "\n",
    "z <- outer(x1, x2, FUN = pd)\n",
    "contour(x1, x2, z,\n",
    "  levels = 0.5, drawlabels = FALSE,\n",
    "  lwd = 6, col = \"blue\", add = TRUE\n",
    ") # 画出分类界限--置信度为0.5的等高线\n",
    "\n",
    "x2 <- x1 * cos(x1)\n",
    "lines(x1, x2,col = \"blue\",lwd = 6, lty = 3)\n",
    "legend(\"bottomright\", c(\"分类界限-理论\"), lwd = 6, col = \"blue\", lty = 3, cex = 0.8)\n",
    "grid()\n",
    "#此时决策树只有一个根节点--将所有的样本点混为一谈,所以没有分界线"
   ]
  },
  {
   "cell_type": "markdown",
   "metadata": {},
   "source": [
    "**最优树**--xerror尽量低且树尽量小：接近理论分类界限"
   ]
  },
  {
   "cell_type": "code",
   "execution_count": null,
   "metadata": {
    "vscode": {
     "languageId": "r"
    }
   },
   "outputs": [],
   "source": [
    "plot(d_tr$x1, d_tr$x2, col = d_tr$y, xlab = \"x1\", ylab = \"x2\", cex = 0.5)\n",
    "\n",
    "\n",
    "cto <- prune_se(ct1, prune = TRUE, se = 1)      #1SE最优树\n",
    "x1 <- seq(min(d_tr$x1), max(d_tr$x1), length = 100)\n",
    "x2 <- seq(min(d_tr$x2), max(d_tr$x2), length = 100)\n",
    "\n",
    "pd <- function(x1, x2){\n",
    "  predict(cto, data.frame(x1, x2), type = \"prob\")[, 1]\n",
    "}\n",
    "\n",
    "z <- outer(x1, x2, FUN = pd)\n",
    "contour(x1, x2, z,\n",
    "  levels = 0.5, drawlabels = FALSE,\n",
    "  lwd = 6, col = \"blue\", add = TRUE\n",
    ") # 画出分类界限--置信度为0.5的等高线\n",
    "\n",
    "x2 <- x1 * cos(x1)\n",
    "lines(x1, x2,col = \"blue\",lwd = 6, lty = 3)\n",
    "legend(\"bottomright\", c(\"分类界限-理论\", \"分类界限-最优决策树\"), lwd = c(6, 6), col = c(\"blue\", \"blue\"), lty = c(3, 1),cex = 0.8)\n",
    "grid()"
   ]
  },
  {
   "cell_type": "markdown",
   "metadata": {},
   "source": [
    "**cp 对分类性能的影响**"
   ]
  },
  {
   "cell_type": "code",
   "execution_count": null,
   "metadata": {
    "vscode": {
     "languageId": "r"
    }
   },
   "outputs": [],
   "source": [
    "n <- 10000\n",
    "u <- 10\n",
    "v <- 5\n",
    "\n",
    "set.seed(10)\n",
    "x1 <- sort(runif(n, min = -u, max = u))\n",
    "x2 <- x1 * cos(x1) + v * rnorm(n) - 4\n",
    "y <- 1\n",
    "d0 <- data.frame(y, x1, x2)\n",
    "\n",
    "set.seed(100)\n",
    "x1 <- sort(runif(n, min = -u, max = u))\n",
    "x2 <- x1 * cos(x1) + v * rnorm(n) + 4\n",
    "y <- 2\n",
    "d1 <- data.frame(y, x1, x2)\n",
    "\n",
    "d_te <- rbind(d0, d1)    \n",
    "d_te$y <- factor(d_te$y)    #生成测试集\n",
    "\n",
    "ct <- rpart(y ~ ., data = d_tr, method = \"class\", cp = 0)\n",
    "cp <- ct$cp\n",
    "a <- cp[, 1] # cp序列\n",
    "L <- length(a)\n",
    "Cp <- sqrt(a[-L] * a[-1]) # 几何平均值--二个界值之间的值\n",
    "node <- cp[-1, 2] + 1 # 叶节点个数序列\n",
    "\n",
    "error_train <- c()\n",
    "error_test <- c()\n",
    "\n",
    "for (c in Cp) # 依次画出各个cp下的决策树，计算当时的训练集和测试集错误率\n",
    "{\n",
    "  ct <- rpart(y ~ ., data = d_tr, method = \"class\", cp = c)\n",
    "  # rpart.plot(twf,main=paste('CP=',round(c,4)))    #当前cp值对应的决策树\n",
    "\n",
    "  pred_tr <- predict(ct, d_tr, type = \"class\")\n",
    "  error_train <- c(error_train, mean(pred_tr != d_tr$y))\n",
    "\n",
    "  pred_te <- predict(ct, d_te, type = \"class\")\n",
    "  error_test <- c(error_test, mean(pred_te != d_te$y))\n",
    "}\n",
    "\n",
    "p_load(plotly)\n",
    "\n",
    "fig <- plot_ly(x = Cp) %>%\n",
    "  add_trace(y = error_train, type = \"scatter\", name = \"train set\", color = I(\"black\"), mode = \"lines+markers\") %>%\n",
    "  add_trace(y = error_test, type = \"scatter\", name = \"test  set\", color = I(\"red\"), mode = \"lines+markers\") %>%\n",
    "  layout(\n",
    "    title = \"Error curves of train and test set\",\n",
    "    xaxis = list(title = \"cp\"),\n",
    "    yaxis = list(title = \"error\")\n",
    "  )\n",
    "fig\n",
    "\n",
    "\n",
    "cat(\"\\n\\n\")\n",
    "\n",
    "fig <- plot_ly(x = node) %>%\n",
    "  add_trace(y = error_train, type = \"scatter\", name = \"train set\", color = I(\"black\"), mode = \"lines+markers\") %>%\n",
    "  add_trace(y = error_test, type = \"scatter\", name = \"test  set\", color = I(\"red\"), mode = \"lines+markers\") %>%\n",
    "  layout(\n",
    "    title = \"Error curves of train and test set\",\n",
    "    xaxis = list(title = \"number of leaf node\"),\n",
    "    yaxis = list(title = \"error\")\n",
    "  )\n",
    "fig\n",
    "#可见由xerror得到的最优cp和叶节点个数较为准确 "
   ]
  },
  {
   "cell_type": "markdown",
   "metadata": {},
   "source": [
    "### 回归曲线"
   ]
  },
  {
   "cell_type": "code",
   "execution_count": null,
   "metadata": {
    "tags": [],
    "vscode": {
     "languageId": "r"
    }
   },
   "outputs": [],
   "source": [
    "library(pacman)\n",
    "\n",
    "options(warn = -1) # 忽略一切警告\n",
    "options(\"width\" = 140) # 充分利用打印宽度\n",
    "options(repr.plot.width = 15, repr.plot.height = 10) # 满幅\n",
    "\n",
    "p_load(rpart,rattle,treemisc,skimr)\n",
    "s <- skim_tee"
   ]
  },
  {
   "cell_type": "markdown",
   "metadata": {},
   "source": [
    "**构建训练集**"
   ]
  },
  {
   "cell_type": "code",
   "execution_count": null,
   "metadata": {
    "scrolled": true,
    "vscode": {
     "languageId": "r"
    }
   },
   "outputs": [],
   "source": [
    "n <- 10000\n",
    "u <- 10\n",
    "v <- 5\n",
    "\n",
    "set.seed(101)\n",
    "x <- sort(runif(n, min = -u, max = u))\n",
    "y <- x * cos(x) + v * rnorm(n) \n",
    "plot(x, y, cex = 0.5)\n",
    "\n",
    "d_tr <- data.frame(x, y)"
   ]
  },
  {
   "cell_type": "markdown",
   "metadata": {},
   "source": [
    "**cp曲线**"
   ]
  },
  {
   "cell_type": "code",
   "execution_count": null,
   "metadata": {
    "tags": [],
    "vscode": {
     "languageId": "r"
    }
   },
   "outputs": [],
   "source": [
    "set.seed(2) # 固定xstd：xerror具有随机性--数据随机分割的原因\n",
    "rt <- rpart(y ~ ., data = d_tr, cp = 0)   # y为连续变量，rpart函数自动做回归计算\n",
    "plotcp(rt)\n",
    "grid()"
   ]
  },
  {
   "cell_type": "markdown",
   "metadata": {
    "vscode": {
     "languageId": "r"
    }
   },
   "source": [
    "**完全树**--cp=0：回归曲线复杂"
   ]
  },
  {
   "cell_type": "code",
   "execution_count": null,
   "metadata": {
    "vscode": {
     "languageId": "r"
    }
   },
   "outputs": [],
   "source": [
    "rt1 <- rpart(y ~ ., data = d_tr, cp = 1e-5)\n",
    "x <- seq(min(d_tr$x), max(d_tr$x), length = 500)\n",
    "\n",
    "plot(d_tr$x, d_tr$y, xlab = \"x\", ylab = \"y\")\n",
    "lines(d_tr$x, predict(rt1, d_tr), type = \"l\", lwd = 1, col = \"blue\")\n",
    "y <- x * cos(x)\n",
    "lines(x, y, type = \"l\", lwd = 4, xlab = \"x\", ylab = \"y\", col = \"red\")\n",
    "legend(\"bottomright\", c(\"回归曲线--理论\", \"回归曲线--完全树\"), lwd = c(4, 1), col = c(\"red\", \"blue\"), cex = 0.8)\n",
    "grid()"
   ]
  },
  {
   "cell_type": "markdown",
   "metadata": {},
   "source": [
    "**最简树**--只有根节点：回归曲线为一条水平线"
   ]
  },
  {
   "cell_type": "code",
   "execution_count": null,
   "metadata": {
    "scrolled": true,
    "vscode": {
     "languageId": "r"
    }
   },
   "outputs": [],
   "source": [
    "rt2 <- rpart(y ~ ., data = d_tr, cp = Inf)\n",
    "x <- seq(min(d_tr$x), max(d_tr$x), length = 500)\n",
    "\n",
    "plot(d_tr$x, d_tr$y, xlab = \"x\", ylab = \"y\")\n",
    "lines(d_tr$x, predict(rt2, d_tr), type = \"l\", lwd = 6, col = \"blue\")\n",
    "y <- x * cos(x)\n",
    "lines(x, y, type = \"l\", lwd = 4, xlab = \"x\", ylab = \"y\", col = \"red\")\n",
    "legend(\"bottomright\", c(\"回归曲线--理论\", \"回归曲线--最简树\"), lwd = c(4, 4), col = c(\"red\", \"blue\"), cex = 0.8)\n",
    "grid()"
   ]
  },
  {
   "cell_type": "markdown",
   "metadata": {},
   "source": [
    "**最优树**--xerror尽量低且决策树尽量简单：接近理论回归曲线"
   ]
  },
  {
   "cell_type": "code",
   "execution_count": null,
   "metadata": {
    "scrolled": true,
    "vscode": {
     "languageId": "r"
    }
   },
   "outputs": [],
   "source": [
    "rto <- prune_se(rt1, prune = TRUE, se = 1)\n",
    "x <- seq(min(d_tr$x), max(d_tr$x), length = 500)\n",
    "\n",
    "plot(d_tr$x, d_tr$y, xlab = \"x\", ylab = \"y\")\n",
    "lines(d_tr$x, predict(rto, d_tr), type = \"l\", lwd = 6, col = \"blue\")\n",
    "y <- x * cos(x)\n",
    "lines(x, y, type = \"l\", lwd = 4, xlab = \"x\", ylab = \"y\", col = \"red\")\n",
    "legend(\"bottomright\", c(\"回归曲线--理论\", \"回归曲线--最优树\"), lwd = c(4, 4), col = c(\"red\", \"blue\"), cex = 0.8)\n",
    "grid()"
   ]
  },
  {
   "cell_type": "markdown",
   "metadata": {},
   "source": [
    "**cp对回归性能的影响**"
   ]
  },
  {
   "cell_type": "code",
   "execution_count": null,
   "metadata": {
    "vscode": {
     "languageId": "r"
    }
   },
   "outputs": [],
   "source": [
    "n <- 10000\n",
    "u <- 10\n",
    "v <- 5\n",
    "\n",
    "set.seed(111)\n",
    "x <- sort(runif(n, min = -u, max = u))\n",
    "y <- x * cos(x) + v * rnorm(n) \n",
    "d_te <- data.frame(x, y) #生成测试集\n",
    "\n",
    "rt <- rpart(y ~ ., data = d_tr, cp = 0) \n",
    "cp <- rt$cp\n",
    "a <- cp[, 1] # cp序列\n",
    "L <- length(a)\n",
    "Cp <- sqrt(a[-L] * a[-1]) # 几何平均值--二个界值之间的值\n",
    "node <- cp[-1, 2] + 1 # 叶节点个数序列\n",
    "\n",
    "error_train <- c()\n",
    "error_test <- c()\n",
    "\n",
    "for (c in Cp) # 依次画出各个cp下的决策树，计算当时的训练集和测试集错误率\n",
    "{\n",
    "  rt <- rpart(y ~ ., data = d_tr, cp = c)\n",
    "  # rpart.plot(twf,main=paste('CP=',round(c,4)))    #当前cp值对应的决策树\n",
    "\n",
    "  pred_tr <- predict(rt, d_tr)\n",
    "  error_train <- c(error_train, sqrt(mean((pred_tr - d_tr$y)^2)))\n",
    "\n",
    "  pred_te <- predict(rt, d_te)\n",
    "  error_test <- c(error_test, sqrt(mean((pred_te - d_te$y)^2)))\n",
    "}\n",
    "\n",
    "p_load(plotly)\n",
    "\n",
    "fig <- plot_ly(x = Cp) %>%\n",
    "  add_trace(y = error_train, type = \"scatter\", name = \"train set\", color = I(\"black\"), mode = \"lines+markers\") %>%\n",
    "  add_trace(y = error_test, type = \"scatter\", name = \"test  set\", color = I(\"red\"), mode = \"lines+markers\") %>%\n",
    "  layout(\n",
    "    title = \"Error curves of train and test set\",\n",
    "    xaxis = list(title = \"cp\"),\n",
    "    yaxis = list(title = \"error\")\n",
    "  )\n",
    "fig\n",
    "\n",
    "cat(\"\\n\\n\")\n",
    "\n",
    "fig <- plot_ly(x = node) %>%\n",
    "  add_trace(y = error_train, type = \"scatter\", name = \"train set\", color = I(\"black\"), mode = \"lines+markers\") %>%\n",
    "  add_trace(y = error_test, type = \"scatter\", name = \"test  set\", color = I(\"red\"), mode = \"lines+markers\") %>%\n",
    "  layout(\n",
    "    title = \"Error curves of train and test set\",\n",
    "    xaxis = list(title = \"number of leaf node\"),\n",
    "    yaxis = list(title = \"error\")\n",
    "  )\n",
    "fig\n",
    "#可见由xerror得到的最优cp和叶节点个数较为准确 "
   ]
  },
  {
   "cell_type": "markdown",
   "metadata": {},
   "source": [
    "## 分类\n",
    "### 代价不敏感\n",
    "\n",
    "abalone数据集来自4177只鲍鱼，自变量包括type(公、母、幼)、LongestShell 、Diameter、 Height和几种重量(WholeWeight、ShuckedWeight、VisceraWeightShellWeight)，因变量是Rings(外壳上的环数)。\n",
    "\n",
    "将abalone 数据集的Rings值改造成\"L\"、 \"H\"二个数量大致相同的类别，当前的问题是根据一系列自变量，判断abalone 的Rings类别，自变量混合取值--**既有离散取值，也有连续取值**。\n"
   ]
  },
  {
   "cell_type": "code",
   "execution_count": null,
   "metadata": {
    "vscode": {
     "languageId": "r"
    }
   },
   "outputs": [],
   "source": [
    "library(pacman)\n",
    "\n",
    "options(warn = -1) # 忽略一切警告\n",
    "options(\"width\" = 140) # 充分利用打印宽度\n",
    "options(repr.plot.width = 15, repr.plot.height = 10) # 满幅\n",
    "\n",
    "p_load(rpart)\n",
    "p_load(skimr)\n",
    "p_load(partykit)\n",
    "p_load(AppliedPredictiveModeling)\n",
    "s <- skim_tee"
   ]
  },
  {
   "cell_type": "markdown",
   "metadata": {},
   "source": [
    "**导入、改造、勘察数据**"
   ]
  },
  {
   "cell_type": "code",
   "execution_count": null,
   "metadata": {
    "vscode": {
     "languageId": "r"
    }
   },
   "outputs": [],
   "source": [
    "data(abalone)\n",
    "ab <- abalone\n",
    "ab$Rings <- factor((ab$Rings) > 9, labels = c(\"L\", \"H\"))\n",
    "# 处理成二类，逻辑型factor的levels的排序默认是：FALSE,TRUE，分别对应于\"L\",\"H\"\n",
    "s(ab)"
   ]
  },
  {
   "cell_type": "markdown",
   "metadata": {},
   "source": [
    "可见Rings的L类和H类数量平衡"
   ]
  },
  {
   "cell_type": "markdown",
   "metadata": {},
   "source": [
    "**随机平分为训练集和测试集**"
   ]
  },
  {
   "cell_type": "code",
   "execution_count": null,
   "metadata": {
    "tags": [],
    "vscode": {
     "languageId": "r"
    }
   },
   "outputs": [],
   "source": [
    "set.seed(100)\n",
    "i <- sample(nrow(ab), nrow(ab) * 0.5)\n",
    "tr_ab <- ab[i, ]\n",
    "te_ab <- ab[-i, ]\n",
    "s(tr_ab)"
   ]
  },
  {
   "cell_type": "code",
   "execution_count": null,
   "metadata": {
    "scrolled": true,
    "tags": [],
    "vscode": {
     "languageId": "r"
    }
   },
   "outputs": [],
   "source": [
    "set.seed(2) # 固定xstd：xerror具有随机性--数据随机分割的原因\n",
    "ctab <- rpart(Rings ~ ., data = tr_ab, cp = 0) # cp=0--取消在模型复杂度上的约束；此时Ring为factor，rpart函数自动采用分类算法\n",
    "summary(ctab)"
   ]
  },
  {
   "cell_type": "markdown",
   "metadata": {},
   "source": [
    "**观察以上输出**(点开scrollable element)：\n",
    "\n",
    "\n",
    "\n",
    "--cp 表：\n",
    "\n",
    "- rel error 是训练集误差--错判率 = 判错总个数 / 样例总个数。\n",
    "  - 随着 cp 的下降，nsplit 全程上升(决策树越来越庞大)，rel error 全程而下降，表明 cp 越低决策树越复杂，训练集误差越低。\n",
    "- xerror 是多折(默认为十折)交叉验证得到的误差值均值。\n",
    "  - xerror 首先随着随着 cp 的下降而下降，然后开始上升，表明 cp 越低决策树越复杂，会引起过拟合，降低泛化性能。\n",
    "  - xerror 都大于同行的 rel error，可见 rel error 偏乐观。\n",
    "- rel error 和 xerror 都是以 Root node error 为基准的相对值--为了便于比较。\n",
    "- xstd 是 xerror 的标准差，反映 xerror 的变动情况，xerror 具有随机性--数据随机分割的缘故。\n",
    "  - 1-SE 原则：最优 cp 值为最小 xerror 的 cp 点的 1-SE 范围内的最大值，参见 https://stats.stackexchange.com/questions/92547/r-rpart-cross-validation-and-1-se-rule-why-is-the-column-in-cptable-called-xst \n",
    "\n",
    "--各splits(分枝)的improve值逐层下降--优先选择improve大的变量作为当前的分枝变量。"
   ]
  },
  {
   "cell_type": "markdown",
   "metadata": {
    "tags": []
   },
   "source": [
    "**cp曲线--cp 逐降，xerror 的变化情况：**\n"
   ]
  },
  {
   "cell_type": "code",
   "execution_count": null,
   "metadata": {
    "tags": [],
    "vscode": {
     "languageId": "r"
    }
   },
   "outputs": [],
   "source": [
    "plotcp(ctab) # 图示，横坐标值是上表二个连续cp值的几何平均值--取值可以介于二者之间之意\n",
    "grid()\n",
    "# 水平虚线为xerror最小均值加其1-SE，在此线附近最大的cp值最优，可见cp在0.0045附近，xerror小，根据1-SE原则，0.011附近cp最优"
   ]
  },
  {
   "cell_type": "markdown",
   "metadata": {},
   "source": [
    "**最优决策树**"
   ]
  },
  {
   "cell_type": "code",
   "execution_count": null,
   "metadata": {
    "tags": [],
    "vscode": {
     "languageId": "r"
    }
   },
   "outputs": [],
   "source": [
    "ct_abO <- prune_se(ctab, prune = TRUE, se = 1)    #1-SE最优树\n",
    "plot(as.party(ct_abO))"
   ]
  },
  {
   "cell_type": "code",
   "execution_count": null,
   "metadata": {
    "tags": [],
    "vscode": {
     "languageId": "r"
    }
   },
   "outputs": [],
   "source": [
    "pred_tr <- predict(ct_abO, tr_ab, type = \"class\") # 训练集的预测值\n",
    "(error_train <- mean(pred_tr != tr_ab$Rings)) # 训练集的错误率\n",
    "pred_te <- predict(ct_abO, te_ab, type = \"class\") # 测试集的预测值\n",
    "(error_test <- mean(pred_te != te_ab$Rings)) # 测试集的错误率"
   ]
  },
  {
   "cell_type": "markdown",
   "metadata": {},
   "source": [
    "**变量的重要性排序**\n",
    "\n",
    "变量可以作为主变量或代理变量多次出现在树中。**变量重要性的总体度量是将其作为主要变量的每个分割的分割度量的优度(improve)之和，加上将其作为替代变量的所有分割的优度(improve)_(adjusted agreement)**。打印输出时，这些值被缩放到总和为100，并显示四舍五入的值，省略任何比例小于 1%的变量。"
   ]
  },
  {
   "cell_type": "code",
   "execution_count": null,
   "metadata": {
    "vscode": {
     "languageId": "r"
    }
   },
   "outputs": [],
   "source": [
    "barplot(ctab$variable.importance)"
   ]
  },
  {
   "cell_type": "markdown",
   "metadata": {},
   "source": [
    "--“improve”怎么计算？\n",
    "\n",
    "The improvement is n times the change in impurity index\n",
    "\n",
    "improvement = 分枝前(节点样例个数 × “impurity index”) - 分支后(节点样例个数 × “impurity index”)之和\n",
    "\n",
    "比如根节点的分枝：\n"
   ]
  },
  {
   "cell_type": "code",
   "execution_count": null,
   "metadata": {
    "vscode": {
     "languageId": "r"
    }
   },
   "outputs": [],
   "source": [
    "addmargins(with(\n",
    "  tr_ab,\n",
    "  table(cut(ShellWeight, c(0, 0.2545, Inf)),\n",
    "  Rings, exclude = NULL)\n",
    "))"
   ]
  },
  {
   "cell_type": "markdown",
   "metadata": {},
   "source": [
    "improvement = 1044 - 1166[ 1-(851/1166)<sup>2</sup> - (315/1166)<sup>2</sup> ] - 922[ 1 - (193/922)<sup>2</sup>-(729/922)<sup>2</sup> ] = 278.9977\n"
   ]
  },
  {
   "cell_type": "markdown",
   "metadata": {},
   "source": [
    "--“Surrogate splits”怎么得到？\n",
    "\n",
    "按照“agree”降序排列，“agree”是该替代分枝与原分枝的一致程度，以根节点的分枝为例："
   ]
  },
  {
   "cell_type": "code",
   "execution_count": null,
   "metadata": {
    "vscode": {
     "languageId": "r"
    }
   },
   "outputs": [],
   "source": [
    "with(tr_ab, table(cut(ShellWeight, c(0, 0.2545, Inf)), cut(WholeWeight, c(0, 0.89975, Inf)), exclude = NULL))"
   ]
  },
  {
   "cell_type": "markdown",
   "metadata": {},
   "source": [
    "注意：原分枝是“ShellWeight < 0.2545 to the left”，替代分枝是“WholeWeight < 0.89975 to the left”，所以其 agree 为：\n"
   ]
  },
  {
   "cell_type": "code",
   "execution_count": null,
   "metadata": {
    "vscode": {
     "languageId": "r"
    }
   },
   "outputs": [],
   "source": [
    "(1100 + 829) / (1100 + 829 + 93 + 66)"
   ]
  },
  {
   "cell_type": "markdown",
   "metadata": {},
   "source": [
    "“adj”(adjusted agreement)计算：\n",
    "\n",
    "若该数据集所有的样例的 ShellWeight 值缺失，不依赖其他属性，将其认定为“< 0.2545”,正确的个数为 1100+66，替代分枝“WholeWeight < 0.89975 ”的作用体现在剩下的(1100 + 829 + 93 + 66 - (1100 + 66))样例中正确认定了(1100 + 829 - (1100 + 66))个，所以 adj 为："
   ]
  },
  {
   "cell_type": "code",
   "execution_count": null,
   "metadata": {
    "vscode": {
     "languageId": "r"
    }
   },
   "outputs": [],
   "source": [
    "(1100 + 829 - (1100 + 66)) / (1100 + 829 + 93 + 66 - (1100 + 66))"
   ]
  },
  {
   "cell_type": "markdown",
   "metadata": {},
   "source": [
    "目标变量有二个以上类别："
   ]
  },
  {
   "cell_type": "code",
   "execution_count": null,
   "metadata": {
    "vscode": {
     "languageId": "r"
    }
   },
   "outputs": [],
   "source": [
    "library(pacman)\n",
    "\n",
    "options(warn = -1) # 忽略一切警告\n",
    "options(\"width\" = 140) # 充分利用打印宽度\n",
    "options(repr.plot.width = 15, repr.plot.height = 10) # 满幅\n",
    "\n",
    "p_load(rpart,skimr,partykit)\n",
    "s <- skim_tee"
   ]
  },
  {
   "cell_type": "code",
   "execution_count": null,
   "metadata": {
    "scrolled": true,
    "vscode": {
     "languageId": "r"
    }
   },
   "outputs": [],
   "source": [
    "s(iris)"
   ]
  },
  {
   "cell_type": "code",
   "execution_count": null,
   "metadata": {
    "vscode": {
     "languageId": "r"
    }
   },
   "outputs": [],
   "source": [
    "plot(as.party(prune_se(rpart(Species ~ ., data = iris), prune = TRUE, se = 1)))"
   ]
  },
  {
   "cell_type": "markdown",
   "metadata": {},
   "source": [
    "### 代价敏感"
   ]
  },
  {
   "cell_type": "markdown",
   "metadata": {
    "vscode": {
     "languageId": "r"
    }
   },
   "source": [
    "**rpart针对代价敏感问题的三种算法：先验法、代价法、权重法**\n",
    "\n",
    "\n",
    "\n",
    "将abalone数据集改造成非平衡(代价敏感问题常出现于非平衡数据集)，假定将Rings的“H”类判为“L”代价为5，将“L”类判为“H”代价为1"
   ]
  },
  {
   "cell_type": "code",
   "execution_count": null,
   "metadata": {
    "vscode": {
     "languageId": "r"
    }
   },
   "outputs": [],
   "source": [
    "library(pacman)\n",
    "\n",
    "options(warn = -1) # 忽略一切警告\n",
    "options(\"width\" = 140) # 充分利用打印宽度\n",
    "options(repr.plot.width = 15, repr.plot.height = 10) # 满幅\n",
    "\n",
    "p_load(rpart, AppliedPredictiveModeling, skimr, treemisc, partykit)\n",
    "s <- skim_tee"
   ]
  },
  {
   "cell_type": "markdown",
   "metadata": {},
   "source": [
    "**导入、改造、勘察数据**"
   ]
  },
  {
   "cell_type": "code",
   "execution_count": null,
   "metadata": {
    "vscode": {
     "languageId": "r"
    }
   },
   "outputs": [],
   "source": [
    "data(abalone)\n",
    "ab <- abalone\n",
    "ab$Rings <- factor((ab$Rings) > 12, labels = c(\"L\", \"H\"))\n",
    "s(ab)"
   ]
  },
  {
   "cell_type": "markdown",
   "metadata": {},
   "source": [
    "可见目标变量Rings的类别并不平衡，数量L类约为H类的5倍"
   ]
  },
  {
   "cell_type": "markdown",
   "metadata": {},
   "source": [
    "**将数据随机平分为训练集和测试集：**"
   ]
  },
  {
   "cell_type": "code",
   "execution_count": null,
   "metadata": {
    "vscode": {
     "languageId": "r"
    }
   },
   "outputs": [],
   "source": [
    "set.seed(100)\n",
    "i <- sample(nrow(ab), nrow(ab) * 0.5)\n",
    "tr_ab <- ab[i, ]\n",
    "te_ab <- ab[-i, ]\n",
    "s(tr_ab)"
   ]
  },
  {
   "cell_type": "code",
   "execution_count": null,
   "metadata": {
    "vscode": {
     "languageId": "r"
    }
   },
   "outputs": [],
   "source": [
    "(ct <- rpart.control(cp = 1e-5))    #降低cp值，使得决策树能够充分生长，但奇怪的是若将cp置为0，反而三种方法得到的决策树不完全一样"
   ]
  },
  {
   "cell_type": "markdown",
   "metadata": {},
   "source": [
    "#### 先验法"
   ]
  },
  {
   "cell_type": "code",
   "execution_count": null,
   "metadata": {
    "vscode": {
     "languageId": "r"
    }
   },
   "outputs": [],
   "source": [
    "set.seed(22)\n",
    "(levels(tr_ab$Rings))     #先验概率的类别排列顺序\n",
    "(pr <- c(1737 / 2088, (1 - 1737 / 2088) * 5) / sum(c(1737 / 2088, (1 - 1737 / 2088) * 5))) # 设定先验概率\n",
    "(ct_ab1 <- rpart(Rings ~ ., data = tr_ab, parms = list(prior = pr), control = ct))"
   ]
  },
  {
   "cell_type": "markdown",
   "metadata": {},
   "source": [
    "#### 代价法"
   ]
  },
  {
   "cell_type": "code",
   "execution_count": null,
   "metadata": {
    "vscode": {
     "languageId": "r"
    }
   },
   "outputs": [],
   "source": [
    "set.seed(22)\n",
    "(levels(tr_ab$Rings))     #代价矩阵中行和列中的类别排列顺序\n",
    "(lm <- matrix(c(0, 1, 5, 0), byrow = TRUE, nrow = 2)) # L类判为H类的代价为1，H类判为L类的代价为5\n",
    "(ct_ab2 <- rpart(Rings ~ ., data = tr_ab, parms = list(loss = lm), control = ct))"
   ]
  },
  {
   "cell_type": "markdown",
   "metadata": {},
   "source": [
    "#### 权重法"
   ]
  },
  {
   "cell_type": "code",
   "execution_count": null,
   "metadata": {
    "vscode": {
     "languageId": "r"
    }
   },
   "outputs": [],
   "source": [
    "w <- ifelse(tr_ab$Rings == \"H\", 5, 1)\n",
    "set.seed(22)\n",
    "(ct_ab3 <- rpart(Rings ~ ., data = tr_ab, weights = w, control = ct))\n"
   ]
  },
  {
   "cell_type": "markdown",
   "metadata": {},
   "source": [
    "#### 结论\n",
    "\n",
    "1. 先验法、代价法、权重法得到的决策树完全相同，三种等效\n",
    "2. 在表达上，权重法最为简单、清晰\n",
    "   \n",
    "注：可以通过https://www.diffchecker.com/zh-Hans/text-compare/ ，比较三者"
   ]
  },
  {
   "cell_type": "markdown",
   "metadata": {},
   "source": [
    "## 回归"
   ]
  },
  {
   "cell_type": "markdown",
   "metadata": {},
   "source": [
    "### 自变量混合取值"
   ]
  },
  {
   "cell_type": "code",
   "execution_count": null,
   "metadata": {
    "vscode": {
     "languageId": "r"
    }
   },
   "outputs": [],
   "source": [
    "library(pacman)\n",
    "\n",
    "options(warn = -1) # 忽略一切警告\n",
    "options(\"width\" = 140) # 充分利用打印宽度\n",
    "options(repr.plot.width = 15, repr.plot.height = 10) # 满幅\n",
    "\n",
    "p_load(rpart)\n",
    "p_load(rattle) #使用其中的fancyRpartPlot函数\n",
    "p_load(skimr)\n",
    "p_load(treemisc)\n",
    "s <- skim_tee\n",
    "p_load(AppliedPredictiveModeling)"
   ]
  },
  {
   "cell_type": "code",
   "execution_count": null,
   "metadata": {
    "vscode": {
     "languageId": "r"
    }
   },
   "outputs": [],
   "source": [
    "data(abalone)\n",
    "ab <- abalone\n",
    "s(ab)"
   ]
  },
  {
   "cell_type": "code",
   "execution_count": null,
   "metadata": {
    "tags": [],
    "vscode": {
     "languageId": "r"
    }
   },
   "outputs": [],
   "source": [
    "# 将数据集1:1随机分割成训练集和测试集\n",
    "set.seed(100)\n",
    "I <- sample(nrow(ab), nrow(ab) * 0.5)\n",
    "tr_ab <- ab[I, ]\n",
    "te_ab <- ab[-I, ]\n",
    "s(tr_ab)"
   ]
  },
  {
   "cell_type": "code",
   "execution_count": null,
   "metadata": {
    "scrolled": true,
    "tags": [],
    "vscode": {
     "languageId": "r"
    }
   },
   "outputs": [],
   "source": [
    "set.seed(2) # 固定xstd：xerror具有随机性--数据随机分割的原因\n",
    "rt_ab <- rpart(Rings ~ ., data = tr_ab, cp = 0) # cp=0--决策树充分生长，保留该值以上cp的情形\n",
    "summary(rt_ab)"
   ]
  },
  {
   "cell_type": "markdown",
   "metadata": {},
   "source": [
    "- improve is of a split is SST − (SSL + SSR), SST is the sum of square errors for the node, and SSR, SSL are the sums of square errors for the right and left son\n",
    "- The error of a node is the variance of y"
   ]
  },
  {
   "cell_type": "code",
   "execution_count": null,
   "metadata": {
    "vscode": {
     "languageId": "r"
    }
   },
   "outputs": [],
   "source": [
    "rt_ab$method   #method取值"
   ]
  },
  {
   "cell_type": "markdown",
   "metadata": {},
   "source": [
    "**cp曲线**"
   ]
  },
  {
   "cell_type": "code",
   "execution_count": null,
   "metadata": {
    "tags": [],
    "vscode": {
     "languageId": "r"
    }
   },
   "outputs": [],
   "source": [
    "plotcp(rt_ab) \n",
    "grid()"
   ]
  },
  {
   "cell_type": "markdown",
   "metadata": {},
   "source": [
    "**xerror 1-SE最优树**\n"
   ]
  },
  {
   "cell_type": "code",
   "execution_count": null,
   "metadata": {
    "tags": [],
    "vscode": {
     "languageId": "r"
    }
   },
   "outputs": [],
   "source": [
    "rt_abO <- prune_se(rt_ab, prune = TRUE, se = 1)    \n",
    "fancyRpartPlot(rt_abO, caption = \"\")"
   ]
  },
  {
   "cell_type": "code",
   "execution_count": null,
   "metadata": {
    "vscode": {
     "languageId": "r"
    }
   },
   "outputs": [],
   "source": [
    "plot(as.party(rt_abO))   #叶节点上直接反映因变量值的分布"
   ]
  },
  {
   "cell_type": "markdown",
   "metadata": {},
   "source": [
    "**误差－最优树**\n"
   ]
  },
  {
   "cell_type": "code",
   "execution_count": null,
   "metadata": {
    "tags": [],
    "vscode": {
     "languageId": "r"
    }
   },
   "outputs": [],
   "source": [
    "pred_tr <- predict(rt_abO, tr_ab) # 训练集的预测值\n",
    "(error_train <- sqrt(mean((pred_tr - tr_ab$Rings)^2))) # 针对于训练集的RMSE\n",
    "pred_te <- predict(rt_abO, te_ab) # 测试集的预测值\n",
    "(error_test <- sqrt(mean((pred_te - te_ab$Rings)^2))) # 针对于训练集的RMSE"
   ]
  },
  {
   "cell_type": "markdown",
   "metadata": {},
   "source": [
    "**cp 对回归性能的影响**\n"
   ]
  },
  {
   "cell_type": "code",
   "execution_count": null,
   "metadata": {
    "scrolled": true,
    "tags": [],
    "vscode": {
     "languageId": "r"
    }
   },
   "outputs": [],
   "source": [
    "cp <- rt_ab$cp\n",
    "a <- cp[, 1] # cp序列\n",
    "L <- length(a)\n",
    "Cp <- sqrt(a[-L] * a[-1]) # 几何平均值--二个界值之间的值\n",
    "node <- cp[-1, 2] + 1 # 叶节点个数序列\n",
    "\n",
    "error_train <- c()\n",
    "error_test <- c()\n",
    "\n",
    "for (c in Cp) # 依次画出各个cp下的决策树，计算当时的训练集和测试集错误率\n",
    "{\n",
    "  rt <- rpart(Rings ~ ., data = tr_ab, cp = c)\n",
    "  # rpart.plot(twf,main=paste('CP=',round(c,4)))    #当前cp值对应的决策树\n",
    "\n",
    "  pred_tr <- predict(rt, tr_ab)\n",
    "  error_train <- c(error_train, sqrt(mean((pred_tr - tr_ab$Rings)^2)))\n",
    "\n",
    "  pred_te <- predict(rt, te_ab)\n",
    "  error_test <- c(error_test, sqrt(mean((pred_te - te_ab$Rings)^2)))\n",
    "}\n",
    "\n",
    "p_load(plotly)\n",
    "\n",
    "fig <- plot_ly(x = Cp) %>%\n",
    "  add_trace(y = error_train, type = \"scatter\", name = \"train set\", color = I(\"black\"), mode = \"lines+markers\") %>%\n",
    "  add_trace(y = error_test, type = \"scatter\", name = \"test  set\", color = I(\"red\"), mode = \"lines+markers\") %>%\n",
    "  layout(\n",
    "    title = \"Error curves of train and test set\",\n",
    "    xaxis = list(title = \"cp\"),\n",
    "    yaxis = list(title = \"error\")\n",
    "  )\n",
    "fig\n",
    "\n",
    "cat(\"\\n\\n\")\n",
    "\n",
    "fig <- plot_ly(x = node) %>%\n",
    "  add_trace(y = error_train, type = \"scatter\", name = \"train set\", color = I(\"black\"), mode = \"lines+markers\") %>%\n",
    "  add_trace(y = error_test, type = \"scatter\", name = \"test  set\", color = I(\"red\"), mode = \"lines+markers\") %>%\n",
    "  layout(\n",
    "    title = \"Error curves of train and test set\",\n",
    "    xaxis = list(title = \"number of leaf node\"),\n",
    "    yaxis = list(title = \"error\")\n",
    "  )\n",
    "fig"
   ]
  },
  {
   "cell_type": "markdown",
   "metadata": {},
   "source": [
    "### 自变量连续取值\n"
   ]
  },
  {
   "cell_type": "markdown",
   "metadata": {},
   "source": [
    "数据集 $friedman1$按此方式生成模拟数据：自变量 $\\{X_j\\}^{10}_ {j=1}\\overset{iid}{\\sim} U(0,1)$，$Y=10\\sin(\\pi X_1X_2)+20(X_3-0.5)^2+10X_4+5X_5+\\epsilon$ ,  其中$\\epsilon\\sim N(0,\\sigma)$ ，请注意$X_6 \\sim X_{10} $ 独立于 $Y$ 。"
   ]
  },
  {
   "cell_type": "code",
   "execution_count": null,
   "metadata": {
    "vscode": {
     "languageId": "r"
    }
   },
   "outputs": [],
   "source": [
    "library(pacman)\n",
    "\n",
    "options(warn = -1) # 忽略一切警告\n",
    "options(\"width\" = 140) # 充分利用打印宽度\n",
    "options(repr.plot.width = 15, repr.plot.height = 10) # 满幅\n",
    "\n",
    "p_load(rpart, skimr, treemisc, partykit, rattle)\n",
    "s <- skim_tee"
   ]
  },
  {
   "cell_type": "code",
   "execution_count": null,
   "metadata": {
    "vscode": {
     "languageId": "r"
    }
   },
   "outputs": [],
   "source": [
    "set.seed(943) # for reproducibility\n",
    "fr <- treemisc::gen_friedman1(1000, nx = 7, sigma = 0.1)\n",
    "s(fr)"
   ]
  },
  {
   "cell_type": "code",
   "execution_count": null,
   "metadata": {
    "tags": [],
    "vscode": {
     "languageId": "r"
    }
   },
   "outputs": [],
   "source": [
    "# 将数据集1:1随机分割成训练集和测试集\n",
    "set.seed(100)\n",
    "I <- sample(nrow(fr), nrow(fr) * 0.5)\n",
    "tr_fr <- fr[I, ]\n",
    "te_fr <- fr[-I, ]\n",
    "s(tr_fr)"
   ]
  },
  {
   "cell_type": "code",
   "execution_count": null,
   "metadata": {
    "scrolled": true,
    "tags": [],
    "vscode": {
     "languageId": "r"
    }
   },
   "outputs": [],
   "source": [
    "set.seed(2) # 固定xstd：xerror具有随机性--数据随机分割的原因\n",
    "rt_fr <- rpart(y ~ ., data = tr_fr, cp = 0) # cp=0--决策树充分生长，保留该值以上cp的情形\n",
    "plotcp(rt_fr) # 随着cp的变化，决策树的error变化情况\n",
    "grid()"
   ]
  },
  {
   "cell_type": "markdown",
   "metadata": {},
   "source": [
    "**xerror 1-SE 最优树**\n"
   ]
  },
  {
   "cell_type": "code",
   "execution_count": null,
   "metadata": {
    "tags": [],
    "vscode": {
     "languageId": "r"
    }
   },
   "outputs": [],
   "source": [
    "rt_fro <- prune_se(rt_fr, prune = TRUE, se = 1)    \n",
    "fancyRpartPlot(rt_fro, caption = \"\")"
   ]
  },
  {
   "cell_type": "markdown",
   "metadata": {},
   "source": [
    "**自变量重要的排序**"
   ]
  },
  {
   "cell_type": "code",
   "execution_count": null,
   "metadata": {
    "vscode": {
     "languageId": "r"
    }
   },
   "outputs": [],
   "source": [
    "barplot(rt_fro$variable.importance)"
   ]
  },
  {
   "cell_type": "markdown",
   "metadata": {},
   "source": [
    "实际上X6、X7与因变量无关，此排序未能正确反映此关系"
   ]
  },
  {
   "cell_type": "markdown",
   "metadata": {},
   "source": [
    "**错误率－最优树**\n"
   ]
  },
  {
   "cell_type": "code",
   "execution_count": null,
   "metadata": {
    "tags": [],
    "vscode": {
     "languageId": "r"
    }
   },
   "outputs": [],
   "source": [
    "pred_tr <- predict(rt_fro, tr_fr) # 训练集的预测值\n",
    "(MSE_train <- mean((pred_tr - tr_fr$y)^2)) # 针对于训练集的MSE\n",
    "pred_te <- predict(rt_fro, te_fr) # 测试集的预测值\n",
    "(MSE_test <- mean((pred_te - te_fr$y)^2)) # 针对于训练集的MSE"
   ]
  },
  {
   "cell_type": "markdown",
   "metadata": {},
   "source": [
    "## Poisson 回归：将计数值作为回归的目标\n"
   ]
  },
  {
   "cell_type": "markdown",
   "metadata": {},
   "source": [
    "理论参见：\n",
    "\n",
    "- https://zhuanlan.zhihu.com/p/104494467\n",
    "- https://mengte.online/archives/4373\n"
   ]
  },
  {
   "cell_type": "code",
   "execution_count": null,
   "metadata": {
    "vscode": {
     "languageId": "r"
    }
   },
   "outputs": [],
   "source": [
    "library(pacman)\n",
    "\n",
    "options(warn = -1) # 忽略一切警告\n",
    "options(\"width\" = 140) # 充分利用打印宽度\n",
    "options(repr.plot.width = 15, repr.plot.height = 10) # 满幅\n",
    "\n",
    "p_load(rpart)\n",
    "p_load(rattle) # 使用其中的fancyRpartPlot函数\n",
    "p_load(skimr)\n",
    "s <- skim_tee"
   ]
  },
  {
   "cell_type": "code",
   "execution_count": null,
   "metadata": {
    "vscode": {
     "languageId": "r"
    }
   },
   "outputs": [],
   "source": [
    "s(solder.balance)"
   ]
  },
  {
   "cell_type": "code",
   "execution_count": null,
   "metadata": {
    "vscode": {
     "languageId": "r"
    }
   },
   "outputs": [],
   "source": [
    "sfit <- rpart(skips ~ Opening + Solder + Mask + PadType + Panel, data = solder.balance, method = \"poisson\")"
   ]
  },
  {
   "cell_type": "code",
   "execution_count": null,
   "metadata": {
    "scrolled": true,
    "vscode": {
     "languageId": "r"
    }
   },
   "outputs": [],
   "source": [
    "summary(sfit)"
   ]
  },
  {
   "cell_type": "markdown",
   "metadata": {},
   "source": [
    "improve--The likelihood ratio test for two Poisson groups: D<sub>parent</sub>- (D<sub>left</sub> + D<sub>right</sub>)\n"
   ]
  },
  {
   "cell_type": "code",
   "execution_count": null,
   "metadata": {
    "vscode": {
     "languageId": "r"
    }
   },
   "outputs": [],
   "source": [
    "plotcp(sfit)"
   ]
  },
  {
   "cell_type": "code",
   "execution_count": null,
   "metadata": {
    "vscode": {
     "languageId": "r"
    }
   },
   "outputs": [],
   "source": [
    "sfito <- rpart(skips ~ Opening + Solder + Mask + PadType + Panel,\n",
    "    data = solder.balance,\n",
    "    method = \"poisson\", cp = 0.017\n",
    ")"
   ]
  },
  {
   "cell_type": "code",
   "execution_count": null,
   "metadata": {
    "vscode": {
     "languageId": "r"
    }
   },
   "outputs": [],
   "source": [
    "fancyRpartPlot(sfito)"
   ]
  },
  {
   "cell_type": "markdown",
   "metadata": {},
   "source": [
    "### 生存分析：一类特殊的 Possion 回归\n"
   ]
  },
  {
   "cell_type": "markdown",
   "metadata": {},
   "source": [
    "理论参见：\n",
    "\n",
    "- https://www.cnblogs.com/wwxbi/p/6136348.html\n",
    "- http://thisis.yorven.site/blog/index.php/2020/04/06/survival-analysis/\n"
   ]
  },
  {
   "cell_type": "code",
   "execution_count": null,
   "metadata": {
    "vscode": {
     "languageId": "r"
    }
   },
   "outputs": [],
   "source": [
    "library(pacman)\n",
    "\n",
    "options(warn = -1) # 忽略一切警告\n",
    "options(\"width\" = 140) # 充分利用打印宽度\n",
    "options(repr.plot.width = 15, repr.plot.height = 10) # 满幅\n",
    "p_load(rpart.plot)\n",
    "p_load(rpart)\n",
    "p_load(skimr)\n",
    "s <- skim_tee"
   ]
  },
  {
   "cell_type": "code",
   "execution_count": null,
   "metadata": {
    "scrolled": true,
    "vscode": {
     "languageId": "r"
    }
   },
   "outputs": [],
   "source": [
    "stagec"
   ]
  },
  {
   "cell_type": "code",
   "execution_count": null,
   "metadata": {
    "vscode": {
     "languageId": "r"
    }
   },
   "outputs": [],
   "source": [
    "s(stagec)"
   ]
  },
  {
   "cell_type": "code",
   "execution_count": null,
   "metadata": {
    "scrolled": true,
    "vscode": {
     "languageId": "r"
    }
   },
   "outputs": [],
   "source": [
    "pfit <- rpart(survival::Surv(pgtime, pgstat) ~ age + eet + g2 + grade + gleason + ploidy, data = stagec)\n",
    "summary(pfit)"
   ]
  },
  {
   "cell_type": "code",
   "execution_count": null,
   "metadata": {
    "vscode": {
     "languageId": "r"
    }
   },
   "outputs": [],
   "source": [
    "pfit$method"
   ]
  },
  {
   "cell_type": "markdown",
   "metadata": {},
   "source": [
    "Sur 函数参数：\n",
    "\n",
    "- time：for right censored data, this is the follow up time. For interval data, the first argument is the starting time for the interval.\n",
    "- event：The status indicator, normally 0=alive, 1=dead.\n"
   ]
  },
  {
   "cell_type": "code",
   "execution_count": null,
   "metadata": {
    "scrolled": true,
    "vscode": {
     "languageId": "r"
    }
   },
   "outputs": [],
   "source": [
    "plotcp(pfit)\n",
    "grid()"
   ]
  },
  {
   "cell_type": "code",
   "execution_count": null,
   "metadata": {
    "vscode": {
     "languageId": "r"
    }
   },
   "outputs": [],
   "source": [
    "pfit2 <- prune(pfit, cp = 0.12945955)\n",
    "rpart.plot(pfit2, nn = TRUE)\n",
    "# 各节点第一行、第二行数字的含义是？"
   ]
  },
  {
   "cell_type": "code",
   "execution_count": null,
   "metadata": {
    "vscode": {
     "languageId": "r"
    }
   },
   "outputs": [],
   "source": [
    "train <- data.frame(RearEnd = c(TRUE, FALSE, TRUE), Fraud = c(TRUE, FALSE, TRUE))\n",
    "mytree <- rpart(Fraud ~ RearEnd, data = train, method = \"class\", minsplit = 2, minbucket = 1)\n",
    "rpart.plot(mytree, extra = 104)\n",
    "mytree$frame"
   ]
  },
  {
   "cell_type": "code",
   "execution_count": null,
   "metadata": {
    "vscode": {
     "languageId": "r"
    }
   },
   "outputs": [],
   "source": [
    "train <- data.frame(RearEnd = c(TRUE, FALSE, TRUE), Fraud = c(TRUE, FALSE, TRUE))\n",
    "mytree <- rpart(Fraud ~ RearEnd,\n",
    "    data = train, method = \"class\", minsplit = 2, minbucket = 1,\n",
    "    weights = c(0.1, 0.1, 0.1)\n",
    ")\n",
    "rpart.plot(mytree, extra = 104)\n",
    "mytree$frame"
   ]
  },
  {
   "cell_type": "code",
   "execution_count": null,
   "metadata": {
    "vscode": {
     "languageId": "r"
    }
   },
   "outputs": [],
   "source": [
    "train <- data.frame(RearEnd = c(TRUE, FALSE, TRUE), Fraud = c(TRUE, FALSE, TRUE))\n",
    "mytree <- rpart(Fraud ~ RearEnd,\n",
    "    data = train, method = \"class\", minsplit = 2, minbucket = 1,\n",
    "    weights = c(0.4, 0.4, 0.4)\n",
    ")\n",
    "rpart.plot(mytree, extra = 104)\n",
    "mytree$frame"
   ]
  },
  {
   "cell_type": "code",
   "execution_count": null,
   "metadata": {
    "scrolled": true,
    "vscode": {
     "languageId": "r"
    }
   },
   "outputs": [],
   "source": [
    "fancyRpartPlot(mytree, caption = \"\")"
   ]
  },
  {
   "cell_type": "markdown",
   "metadata": {},
   "source": [
    "## 缺失值处理\n"
   ]
  },
  {
   "cell_type": "markdown",
   "metadata": {},
   "source": [
    "### 建模时自变量值缺失\n"
   ]
  },
  {
   "cell_type": "code",
   "execution_count": null,
   "metadata": {
    "vscode": {
     "languageId": "r"
    }
   },
   "outputs": [],
   "source": [
    "library(pacman)\n",
    "\n",
    "options(warn = -1) # 忽略一切警告\n",
    "options(\"width\" = 140) # 充分利用打印宽度\n",
    "options(repr.plot.width = 15, repr.plot.height = 10) # 满幅\n",
    "\n",
    "p_load(rpart)\n",
    "p_load(rattle) # 使用其中的fancyRpartPlot函数\n",
    "p_load(skimr)\n",
    "s <- skim_tee\n",
    "p_load(AppliedPredictiveModeling)"
   ]
  },
  {
   "cell_type": "code",
   "execution_count": null,
   "metadata": {
    "vscode": {
     "languageId": "r"
    }
   },
   "outputs": [],
   "source": [
    "data(abalone)\n",
    "ab <- abalone\n",
    "ab$Rings <- factor((ab$Rings) > 9, labels = c(\"L\", \"H\")) # 处理成二类，逻辑型factor的levels的排序默认是：FALSE,TRUE，分别对应于\"L\",\"H\"\n",
    "s(ab)"
   ]
  },
  {
   "cell_type": "code",
   "execution_count": null,
   "metadata": {
    "tags": [],
    "vscode": {
     "languageId": "r"
    }
   },
   "outputs": [],
   "source": [
    "# 将数据集1:1随机分割成训练集和测试集\n",
    "set.seed(100)\n",
    "I <- sample(nrow(ab), nrow(ab) * 0.5)\n",
    "tr_ab <- ab[I, ]\n",
    "te_ab <- ab[-I, ]\n",
    "s(tr_ab)"
   ]
  },
  {
   "cell_type": "markdown",
   "metadata": {},
   "source": [
    "将训练集中第一行的ShellWeight值置为缺失"
   ]
  },
  {
   "cell_type": "code",
   "execution_count": null,
   "metadata": {
    "scrolled": true,
    "vscode": {
     "languageId": "r"
    }
   },
   "outputs": [],
   "source": [
    "tr_ab[1, \"ShellWeight\"] <- NA\n",
    "s(tr_ab)"
   ]
  },
  {
   "cell_type": "code",
   "execution_count": null,
   "metadata": {
    "vscode": {
     "languageId": "r"
    }
   },
   "outputs": [],
   "source": [
    "with(tr_ab, table(Rings, exclude = NULL))"
   ]
  },
  {
   "cell_type": "code",
   "execution_count": null,
   "metadata": {
    "vscode": {
     "languageId": "r"
    }
   },
   "outputs": [],
   "source": [
    "with(tr_ab, table(cut(ShellWeight, c(0, 0.2545, Inf)), Rings, exclude = NULL))"
   ]
  },
  {
   "cell_type": "code",
   "execution_count": null,
   "metadata": {
    "scrolled": true,
    "tags": [],
    "vscode": {
     "languageId": "r"
    }
   },
   "outputs": [],
   "source": [
    "set.seed(2) \n",
    "ctab <- rpart(Rings ~ ., data = tr_ab, method = \"class\", cp = 0) \n",
    "summary(ctab)"
   ]
  },
  {
   "cell_type": "markdown",
   "metadata": {
    "vscode": {
     "languageId": "raw"
    }
   },
   "source": [
    " 可见：\n",
    "\n",
    " \"Primary splits:\n",
    "      ShellWeight   < 0.2545  to the left,  improve=279.7491, (1 missing)\"---有一个值缺失\n",
    "      \n",
    " ...\n",
    "\n",
    " \"Surrogate splits:\n",
    "      WholeWeight   < 1.339   to the left,  agree=0.868, adj=0.627, (1 split)\"---使用WholeWeight替代作了分枝\n",
    "\n",
    "但是：\n",
    "\n",
    " \"Primary splits:\n",
    "      ShellWeight   < 0.2545  to the left,  improve=279.7491, (1 missing)\"---279.7491不知道怎么计算出来的"
   ]
  },
  {
   "cell_type": "markdown",
   "metadata": {},
   "source": [
    "### 预测时自变量值缺失\n"
   ]
  },
  {
   "cell_type": "code",
   "execution_count": null,
   "metadata": {
    "vscode": {
     "languageId": "r"
    }
   },
   "outputs": [],
   "source": [
    "library(pacman)\n",
    "\n",
    "options(warn = -1) # 忽略一切警告\n",
    "options(\"width\" = 140) # 充分利用打印宽度\n",
    "options(repr.plot.width = 15, repr.plot.height = 10) # 满幅\n",
    "\n",
    "p_load(rpart)\n",
    "p_load(rattle) # 使用其中的fancyRpartPlot函数\n",
    "p_load(skimr)\n",
    "s <- skim_tee\n",
    "p_load(AppliedPredictiveModeling)"
   ]
  },
  {
   "cell_type": "code",
   "execution_count": null,
   "metadata": {
    "scrolled": true,
    "vscode": {
     "languageId": "r"
    }
   },
   "outputs": [],
   "source": [
    "data(abalone)\n",
    "ab <- abalone\n",
    "ab$Rings <- factor((ab$Rings) > 9, labels = c(\"L\", \"H\")) # 处理成二类，逻辑型factor的levels的排序默认是：FALSE,TRUE，分别对应于\"L\",\"H\"\n",
    "\n",
    "# 将数据集1:1随机分割成训练集和测试集\n",
    "set.seed(100)\n",
    "I <- sample(nrow(ab), nrow(ab) * 0.5)\n",
    "tr_ab <- ab[I, ]\n",
    "te_ab <- ab[-I, ]\n",
    "head(te_ab)"
   ]
  },
  {
   "cell_type": "code",
   "execution_count": null,
   "metadata": {
    "scrolled": true,
    "tags": [],
    "vscode": {
     "languageId": "r"
    }
   },
   "outputs": [],
   "source": [
    "set.seed(2) # 固定xstd：xerror具有随机性--数据随机分割的原因\n",
    "ctab <- rpart(Rings ~ ., data = tr_ab, control = list(maxsurrogate = 7), method = \"class\", cp = 0.2)\n",
    "summary(ctab)\n",
    "fancyRpartPlot(ctab, caption = \"\")"
   ]
  },
  {
   "cell_type": "code",
   "execution_count": null,
   "metadata": {
    "vscode": {
     "languageId": "r"
    }
   },
   "outputs": [],
   "source": [
    "#生成该树的控制参数\n",
    "ctab$control"
   ]
  },
  {
   "attachments": {},
   "cell_type": "markdown",
   "metadata": {},
   "source": [
    "maxsurrogate--决策树中保留的代理分枝的数量--可能该代理分枝变量值也缺失，则用下一个。如果将其设置为零，计算时间将减少，因为大约一半的计算时间(除了设置)用于搜索代理分割。\n",
    "\n",
    "usesurrogate--如何在分枝过程中使用代理。0表示只显示；缺少主分割规则值的观察值不会被发送到树的下一级。1表示使用按顺序代理分枝，如果所有的代理缺失，则观察结果不分裂。对于值2，如果缺少所有的代理，则以多数为准返回结果。\n"
   ]
  },
  {
   "cell_type": "raw",
   "metadata": {},
   "source": [
    "分枝依据：\n",
    "“  Primary splits:\n",
    "      ShellWeight   < 0.2545  to the left,  improve=278.9977, (0 missing)\n",
    "      ...\n",
    "  Surrogate splits:\n",
    "      WholeWeight   < 0.89975 to the left,  agree=0.924, adj=0.828, (0 split)\n",
    "      Diameter      < 0.4475  to the left,  agree=0.905, adj=0.784, (0 split)\n",
    "      LongestShell  < 0.5625  to the left,  agree=0.890, adj=0.751, (0 split)\n",
    "      VisceraWeight < 0.18225 to the left,  agree=0.889, adj=0.749, (0 split)\n",
    "      ShuckedWeight < 0.37625 to the left,  agree=0.873, adj=0.713, (0 split)\n",
    "      Height        < 0.1475  to the left,  agree=0.872, adj=0.709, (0 split)\n",
    "      Type          splits as  RLR,         agree=0.711, adj=0.346, (0 split)”"
   ]
  },
  {
   "cell_type": "markdown",
   "metadata": {},
   "source": [
    "**观察“Surrogate splits”的用法**\n"
   ]
  },
  {
   "cell_type": "markdown",
   "metadata": {},
   "source": [
    "首先，“ShellWeight”值缺失：\n"
   ]
  },
  {
   "cell_type": "code",
   "execution_count": null,
   "metadata": {
    "vscode": {
     "languageId": "r"
    }
   },
   "outputs": [],
   "source": [
    "te_ab[1, \"ShellWeight\"] <- NA\n",
    "te_ab[1, ]"
   ]
  },
  {
   "cell_type": "code",
   "execution_count": null,
   "metadata": {
    "vscode": {
     "languageId": "r"
    }
   },
   "outputs": [],
   "source": [
    "predict(ctab, te_ab[1, ], type = \"class\")"
   ]
  },
  {
   "cell_type": "code",
   "execution_count": null,
   "metadata": {
    "vscode": {
     "languageId": "r"
    }
   },
   "outputs": [],
   "source": [
    "te_ab[16, \"ShellWeight\"] <- NA\n",
    "te_ab[16, ]"
   ]
  },
  {
   "cell_type": "code",
   "execution_count": null,
   "metadata": {
    "vscode": {
     "languageId": "r"
    }
   },
   "outputs": [],
   "source": [
    "predict(ctab, te_ab[16, ], type = \"class\")"
   ]
  },
  {
   "cell_type": "raw",
   "metadata": {},
   "source": [
    "\"ShellWeight\"值缺失，预测依据的是\n",
    "“Surrogate splits:\n",
    "      WholeWeight   < 0.84075 to the left”"
   ]
  },
  {
   "cell_type": "markdown",
   "metadata": {},
   "source": [
    "ShellWeight 和 WholeWeight 均缺失\n"
   ]
  },
  {
   "cell_type": "code",
   "execution_count": null,
   "metadata": {
    "vscode": {
     "languageId": "r"
    }
   },
   "outputs": [],
   "source": [
    "te_ab[1, \"WholeWeight\"] <- NA\n",
    "te_ab[1, ]"
   ]
  },
  {
   "cell_type": "code",
   "execution_count": null,
   "metadata": {
    "vscode": {
     "languageId": "r"
    }
   },
   "outputs": [],
   "source": [
    "predict(ctab, te_ab[1, ], type = \"class\")"
   ]
  },
  {
   "cell_type": "code",
   "execution_count": null,
   "metadata": {
    "vscode": {
     "languageId": "r"
    }
   },
   "outputs": [],
   "source": [
    "te_ab[16, \"WholeWeight\"] <- NA\n",
    "te_ab[16, ]"
   ]
  },
  {
   "cell_type": "code",
   "execution_count": null,
   "metadata": {
    "vscode": {
     "languageId": "r"
    }
   },
   "outputs": [],
   "source": [
    "predict(ctab, te_ab[16, ], type = \"class\")"
   ]
  },
  {
   "cell_type": "raw",
   "metadata": {},
   "source": [
    "\"ShellWeight和WholeWeight缺失，预测依据的是\n",
    "“Surrogate splits:\n",
    "      Diameter      < 0.4475  to the left”"
   ]
  },
  {
   "cell_type": "markdown",
   "metadata": {},
   "source": [
    "ShellWeight 和 WholeWeight、Diameter 均缺失\n"
   ]
  },
  {
   "cell_type": "code",
   "execution_count": null,
   "metadata": {
    "vscode": {
     "languageId": "r"
    }
   },
   "outputs": [],
   "source": [
    "te_ab[1, \"Diameter\"] <- NA\n",
    "te_ab[1, ]"
   ]
  },
  {
   "cell_type": "code",
   "execution_count": null,
   "metadata": {
    "vscode": {
     "languageId": "r"
    }
   },
   "outputs": [],
   "source": [
    "predict(ctab, te_ab[1, ], type = \"class\")"
   ]
  },
  {
   "cell_type": "code",
   "execution_count": null,
   "metadata": {
    "vscode": {
     "languageId": "r"
    }
   },
   "outputs": [],
   "source": [
    "te_ab[16, \"Diameter\"] <- NA\n",
    "te_ab[16, ]"
   ]
  },
  {
   "cell_type": "code",
   "execution_count": null,
   "metadata": {
    "vscode": {
     "languageId": "r"
    }
   },
   "outputs": [],
   "source": [
    "predict(ctab, te_ab[16, ], type = \"class\")"
   ]
  },
  {
   "cell_type": "raw",
   "metadata": {},
   "source": [
    "ShellWeight和WholeWeight、Diameter均缺失，预测依据的是：\n",
    "“ Surrogate splits:\n",
    "      ...\n",
    "      LongestShell  < 0.5625  to the left”"
   ]
  },
  {
   "cell_type": "markdown",
   "metadata": {},
   "source": [
    "**按序使用“Surrogate”时的误差**\n",
    "\n",
    "      ShellWeight-> WholeWeight-> Diameter-> LongestShell-> VisceraWeight-> ShuckedWeight-> Height->Type 依次缺失\n"
   ]
  },
  {
   "cell_type": "code",
   "execution_count": null,
   "metadata": {
    "vscode": {
     "languageId": "r"
    }
   },
   "outputs": [],
   "source": [
    "# 无缺失\n",
    "te_ab <- ab[-I, ]\n",
    "s(te_ab)\n",
    "\n",
    "pred_te <- predict(ctab, te_ab, type = \"class\") # 测试集的预测值\n",
    "(error_test <- mean(pred_te != te_ab$Rings)) # 测试集的错误率"
   ]
  },
  {
   "cell_type": "code",
   "execution_count": null,
   "metadata": {
    "vscode": {
     "languageId": "r"
    }
   },
   "outputs": [],
   "source": [
    "te_ab[, \"ShellWeight\"] <- NA\n",
    "te_ab[, \"ShellWeight\"] <- as.numeric(te_ab[, \"ShellWeight\"])\n",
    "s(te_ab)\n",
    "\n",
    "pred_te <- predict(ctab, te_ab, type = \"class\") # 测试集的预测值\n",
    "(error_test <- mean(pred_te != te_ab$Rings)) # 测试集的错误率"
   ]
  },
  {
   "cell_type": "code",
   "execution_count": null,
   "metadata": {
    "vscode": {
     "languageId": "r"
    }
   },
   "outputs": [],
   "source": [
    "te_ab[, \"WholeWeight\"] <- NA\n",
    "te_ab[, \"WholeWeight\"] <- as.numeric(te_ab[, \"WholeWeight\"])\n",
    "s(te_ab)\n",
    "\n",
    "pred_te <- predict(ctab, te_ab, type = \"class\") # 测试集的预测值\n",
    "(error_test <- mean(pred_te != te_ab$Rings)) # 测试集的错误率"
   ]
  },
  {
   "cell_type": "code",
   "execution_count": null,
   "metadata": {
    "vscode": {
     "languageId": "r"
    }
   },
   "outputs": [],
   "source": [
    "te_ab[, \"Diameter\"] <- NA\n",
    "te_ab[, \"Diameter\"] <- as.numeric(te_ab[, \"Diameter\"])\n",
    "s(te_ab)\n",
    "\n",
    "pred_te <- predict(ctab, te_ab, type = \"class\") # 测试集的预测值\n",
    "(error_test <- mean(pred_te != te_ab$Rings)) # 测试集的错误率"
   ]
  },
  {
   "cell_type": "code",
   "execution_count": null,
   "metadata": {
    "vscode": {
     "languageId": "r"
    }
   },
   "outputs": [],
   "source": [
    "te_ab[, \"LongestShell\"] <- NA\n",
    "te_ab[, \"LongestShell\"] <- as.numeric(te_ab[, \"LongestShell\"])\n",
    "s(te_ab)\n",
    "\n",
    "pred_te <- predict(ctab, te_ab, type = \"class\") # 测试集的预测值\n",
    "(error_test <- mean(pred_te != te_ab$Rings)) # 测试集的错误率"
   ]
  },
  {
   "cell_type": "code",
   "execution_count": null,
   "metadata": {
    "vscode": {
     "languageId": "r"
    }
   },
   "outputs": [],
   "source": [
    "te_ab[, \"VisceraWeight\"] <- NA\n",
    "te_ab[, \"VisceraWeight\"] <- as.numeric(te_ab[, \"VisceraWeight\"])\n",
    "s(te_ab)\n",
    "\n",
    "pred_te <- predict(ctab, te_ab, type = \"class\") # 测试集的预测值\n",
    "(error_test <- mean(pred_te != te_ab$Rings)) # 测试集的错误率"
   ]
  },
  {
   "cell_type": "code",
   "execution_count": null,
   "metadata": {
    "vscode": {
     "languageId": "r"
    }
   },
   "outputs": [],
   "source": [
    "te_ab[, \"ShuckedWeight\"] <- NA\n",
    "te_ab[, \"ShuckedWeight\"] <- as.numeric(te_ab[, \"ShuckedWeight\"])\n",
    "s(te_ab)\n",
    "\n",
    "pred_te <- predict(ctab, te_ab, type = \"class\") # 测试集的预测值\n",
    "(error_test <- mean(pred_te != te_ab$Rings)) # 测试集的错误率"
   ]
  },
  {
   "cell_type": "code",
   "execution_count": null,
   "metadata": {
    "vscode": {
     "languageId": "r"
    }
   },
   "outputs": [],
   "source": [
    "te_ab[, \"Height\"] <- NA\n",
    "te_ab[, \"Height\"] <- as.numeric(te_ab[, \"Height\"])\n",
    "s(te_ab)\n",
    "\n",
    "pred_te <- predict(ctab, te_ab, type = \"class\") # 测试集的预测值\n",
    "(error_test <- mean(pred_te != te_ab$Rings)) # 测试集的错误率"
   ]
  },
  {
   "cell_type": "code",
   "execution_count": null,
   "metadata": {
    "vscode": {
     "languageId": "r"
    }
   },
   "outputs": [],
   "source": [
    "te_ab[, \"Type\"] <- NA\n",
    "te_ab[, \"Type\"] <- as.character(te_ab[, \"Type\"])\n",
    "s(te_ab)\n",
    "\n",
    "pred_te <- predict(ctab, te_ab, type = \"class\") # 测试集的预测值\n",
    "(error_test <- mean(pred_te != te_ab$Rings)) # 测试集的错误率"
   ]
  },
  {
   "cell_type": "code",
   "execution_count": null,
   "metadata": {
    "vscode": {
     "languageId": "r"
    }
   },
   "outputs": [],
   "source": [
    "# 所有surrogate缺失，取大类\n",
    "1037 / (1052 + 1037)"
   ]
  },
  {
   "cell_type": "markdown",
   "metadata": {},
   "source": [
    "## 时间复杂度\n"
   ]
  },
  {
   "cell_type": "markdown",
   "metadata": {},
   "source": [
    "#### classification-自变量全为类别值\n"
   ]
  },
  {
   "cell_type": "code",
   "execution_count": null,
   "metadata": {
    "tags": [],
    "vscode": {
     "languageId": "r"
    }
   },
   "outputs": [],
   "source": [
    "options(warn = -1) # 忽略一切警告\n",
    "options(\"width\" = 140) # 充分利用打印宽度\n",
    "options(repr.plot.width = 15, repr.plot.height = 10) # 满幅\n",
    "p_load(rpart)\n",
    "p_load(skimr)\n",
    "s <- skim_tee"
   ]
  },
  {
   "cell_type": "code",
   "execution_count": null,
   "metadata": {
    "tags": [],
    "vscode": {
     "languageId": "r"
    }
   },
   "outputs": [],
   "source": [
    "mr <- treemisc::mushroom\n",
    "s(mr)"
   ]
  },
  {
   "cell_type": "code",
   "execution_count": null,
   "metadata": {
    "vscode": {
     "languageId": "r"
    }
   },
   "outputs": [],
   "source": [
    "mr <- treemisc::mushroom\n",
    "\n",
    "N <- 10 # 数据规格数\n",
    "M <- 100 # 每种数据量实验次数\n",
    "rc <- matrix(-1, M, N) # 用于存储实验结果\n",
    "colnames(rc) <- as.character(1:N) # 每列对应于不同的数据规格\n",
    "nr <- nrow(mr)\n",
    "\n",
    "pb <- txtProgressBar(style = 3)\n",
    "for (n in 1:N) {\n",
    "  for (m in 1:M) {\n",
    "    set.seed(n * 1000 + m)\n",
    "    I <- sample(nr, (n * nr / N))\n",
    "    d <- mr[I, ]\n",
    "    timestart <- Sys.time()\n",
    "    rpart(Edibility ~ ., data = d, cp = 0)\n",
    "    rc[m, n] <- difftime(Sys.time(), timestart, units = \"secs\")\n",
    "  }\n",
    "  setTxtProgressBar(pb, n / N)\n",
    "}\n",
    "\n",
    "boxplot(rc, xlab = \"Each scale unit represents 10% examples\", ylab = \"time\")\n",
    "lines(colMeans(rc), type = \"o\", lwd = 2)\n",
    "grid()\n",
    "\n",
    "# 可见呈直线，时间复杂度较低"
   ]
  },
  {
   "cell_type": "markdown",
   "metadata": {},
   "source": [
    "#### classification-自变量全为连续值\n"
   ]
  },
  {
   "cell_type": "code",
   "execution_count": null,
   "metadata": {
    "tags": [],
    "vscode": {
     "languageId": "r"
    }
   },
   "outputs": [],
   "source": [
    "options(warn = -1) # 忽略一切警告\n",
    "options(\"width\" = 140) # 充分利用打印宽度\n",
    "options(repr.plot.width = 15, repr.plot.height = 10) # 满幅\n",
    "p_load(rpart)\n",
    "p_load(skimr)\n",
    "s <- skim_tee"
   ]
  },
  {
   "cell_type": "code",
   "execution_count": null,
   "metadata": {
    "tags": [],
    "vscode": {
     "languageId": "r"
    }
   },
   "outputs": [],
   "source": [
    "set.seed(943) # for reproducibility\n",
    "fr <- treemisc::gen_friedman1(1000, nx = 20, sigma = 0.1)\n",
    "fr$y <- factor(ifelse(fr$y < 14.2, 0, 1))\n",
    "s(fr)"
   ]
  },
  {
   "cell_type": "code",
   "execution_count": null,
   "metadata": {
    "vscode": {
     "languageId": "r"
    }
   },
   "outputs": [],
   "source": [
    "N <- 10 # 数据规格数\n",
    "M <- 100 # 每种数据量实验次数\n",
    "rc <- matrix(-1, M, N) # 用于存储实验结果\n",
    "colnames(rc) <- as.character(1:N) # 每列对应于不同的数据规格\n",
    "nr <- nrow(fr)\n",
    "\n",
    "pb <- txtProgressBar(style = 3)\n",
    "for (n in 1:N) {\n",
    "  for (m in 1:M) {\n",
    "    set.seed(n * 1000 + m)\n",
    "    I <- sample(nr, (n * nr / N))\n",
    "    d <- fr[I, ]\n",
    "    timestart <- Sys.time()\n",
    "    rpart(y ~ ., data = d, cp = 0)\n",
    "    rc[m, n] <- difftime(Sys.time(), timestart, units = \"secs\")\n",
    "  }\n",
    "  setTxtProgressBar(pb, n / N)\n",
    "}\n",
    "\n",
    "boxplot(rc, xlab = \"Each scale unit represents 10% examples\", ylab = \"time\")\n",
    "lines(colMeans(rc), type = \"o\", lwd = 2)\n",
    "grid()\n",
    "\n",
    "# 可见呈直线，时间复杂度较低"
   ]
  },
  {
   "cell_type": "markdown",
   "metadata": {},
   "source": [
    "#### regression-自变量全为连续值\n"
   ]
  },
  {
   "cell_type": "code",
   "execution_count": null,
   "metadata": {
    "tags": [],
    "vscode": {
     "languageId": "r"
    }
   },
   "outputs": [],
   "source": [
    "options(warn = -1) # 忽略一切警告\n",
    "options(\"width\" = 140) # 充分利用打印宽度\n",
    "options(repr.plot.width = 15, repr.plot.height = 10) # 满幅\n",
    "p_load(rpart)\n",
    "p_load(skimr)\n",
    "s <- skim_tee"
   ]
  },
  {
   "cell_type": "code",
   "execution_count": null,
   "metadata": {
    "tags": [],
    "vscode": {
     "languageId": "r"
    }
   },
   "outputs": [],
   "source": [
    "set.seed(943) # for reproducibility\n",
    "fr <- treemisc::gen_friedman1(1000, nx = 20, sigma = 0.1)\n",
    "s(fr)"
   ]
  },
  {
   "cell_type": "code",
   "execution_count": null,
   "metadata": {
    "vscode": {
     "languageId": "r"
    }
   },
   "outputs": [],
   "source": [
    "N <- 10 # 数据规格数\n",
    "M <- 100 # 每种数据量实验次数\n",
    "rc <- matrix(-1, M, N) # 用于存储实验结果\n",
    "colnames(rc) <- as.character(1:N) # 每列对应于不同的数据规格\n",
    "nr <- nrow(fr)\n",
    "\n",
    "pb <- txtProgressBar(style = 3)\n",
    "for (n in 1:N) {\n",
    "  for (m in 1:M) {\n",
    "    set.seed(n * 1000 + m)\n",
    "    I <- sample(nr, (n * nr / N))\n",
    "    d <- fr[I, ]\n",
    "    timestart <- Sys.time()\n",
    "    rpart(y ~ ., data = d, cp = 0)\n",
    "    rc[m, n] <- difftime(Sys.time(), timestart, units = \"secs\")\n",
    "  }\n",
    "  setTxtProgressBar(pb, n / N)\n",
    "}\n",
    "\n",
    "boxplot(rc, xlab = \"Each scale unit represents 10% examples\", ylab = \"time\")\n",
    "lines(colMeans(rc), type = \"o\", lwd = 2)\n",
    "grid()\n",
    "\n",
    "# 可见呈直线，时间复杂度较低"
   ]
  }
 ],
 "metadata": {
  "kernelspec": {
   "display_name": "R",
   "language": "R",
   "name": "ir"
  },
  "language_info": {
   "codemirror_mode": "r",
   "file_extension": ".r",
   "mimetype": "text/x-r-source",
   "name": "R",
   "pygments_lexer": "r",
   "version": "4.4.1"
  },
  "widgets": {
   "application/vnd.jupyter.widget-state+json": {
    "state": {},
    "version_major": 2,
    "version_minor": 0
   }
  }
 },
 "nbformat": 4,
 "nbformat_minor": 4
}
